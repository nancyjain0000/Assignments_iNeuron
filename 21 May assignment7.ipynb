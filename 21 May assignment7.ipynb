{
 "cells": [
  {
   "cell_type": "markdown",
   "id": "018a5117",
   "metadata": {},
   "source": [
    "Q.1. Create two int type variables, apply addition, subtraction, division and multiplications\n",
    "and store the results in variables. Then print the data in the following format by calling the\n",
    "variables:\n",
    "First variable is __ & second variable is __.\n",
    "Addition: __ + __ = __\n",
    "Subtraction: __ - __ = __\n",
    "Multiplication: __ * __ = __\n",
    "Division: __ / __ = __\n",
    "\n",
    "Answer: "
   ]
  },
  {
   "cell_type": "code",
   "execution_count": 1,
   "id": "d840d59c",
   "metadata": {
    "scrolled": true
   },
   "outputs": [
    {
     "name": "stdout",
     "output_type": "stream",
     "text": [
      "First variable is 8 & second variable is 4 .\n",
      "Addition: 8 + 4 = 12\n",
      "Subtraction: 8 - 4 = 4\n",
      "Multiplication: 8 * 4 = 32\n",
      "Division: 8 / 4 = 2.0\n"
     ]
    }
   ],
   "source": [
    "var1=8\n",
    "var2=4\n",
    "add=var1+var2\n",
    "subtract=var1-var2\n",
    "multiply=var1*var2\n",
    "div=var1/var2\n",
    "print(\"First variable is\",var1,\"& second variable is\",var2,\".\")\n",
    "print(\"Addition:\",var1,\"+\",var2,\"=\",add)\n",
    "print(\"Subtraction:\",var1,\"-\",var2,\"=\",subtract)\n",
    "print(\"Multiplication:\",var1,\"*\",var2,\"=\",multiply)\n",
    "print(\"Division:\",var1,\"/\",var2,\"=\",div)"
   ]
  },
  {
   "cell_type": "markdown",
   "id": "cc70024f",
   "metadata": {},
   "source": [
    "Q.2. What is the difference between the following operators:\n",
    "(i) ‘/’ & ‘//’\n",
    "(ii) ‘**’ & ‘^’\n",
    "\n",
    "Answer: \n",
    "(i) '/' is called the division operator which divides the two values and produces the result in floating point numbers. '//' is called the floor division operator which also divides two values but it returns the integer part of the produced result.\n",
    "(ii) '**' is called the exponent operator which finds the exponential value. '^' is an XOR operator which compares the corresponding bitwise values of the two operands. If 1 bit is one (but not both), the corresponding result bit is set to 1, otherwise 0."
   ]
  },
  {
   "cell_type": "code",
   "execution_count": 6,
   "id": "f5f83c3f",
   "metadata": {},
   "outputs": [
    {
     "name": "stdout",
     "output_type": "stream",
     "text": [
      "2.6666666666666665\n",
      "2\n",
      "512\n",
      "11\n"
     ]
    }
   ],
   "source": [
    "a=8\n",
    "b=3\n",
    "print(a/b)  #division operation\n",
    "print(a//b)   #floor division operation\n",
    "print(a**b)   #exponent operation (8**3=512) which is equivalent to 8*8*8\n",
    "print(a^b)    #XOR operation"
   ]
  },
  {
   "attachments": {
    "logical%20operators.png": {
     "image/png": "[encoded data removed]"
    }
   },
   "cell_type": "markdown",
   "id": "38bc20a5",
   "metadata": {},
   "source": [
    "Q.3. List the logical operators.\n",
    "\n",
    "Answer: There are 3 logical or boolean operator in python. These are: and, or, not.![logical%20operators.png](attachment:logical%20operators.png)"
   ]
  },
  {
   "cell_type": "code",
   "execution_count": 7,
   "id": "d0a4c8b4",
   "metadata": {},
   "outputs": [
    {
     "name": "stdout",
     "output_type": "stream",
     "text": [
      "False\n",
      "True\n",
      "True\n"
     ]
    }
   ],
   "source": [
    "a=True\n",
    "b=False\n",
    "print(a and b)\n",
    "print(a or b)\n",
    "print(not b)"
   ]
  },
  {
   "cell_type": "markdown",
   "id": "1d6f3fd9",
   "metadata": {},
   "source": [
    "Q.4. Explain right shift operator and left shift operator with examples.\n",
    "\n",
    "Answer: Right shift operator (>>) shifts the bit of the number to the specified number of places to the right whereas left shift operator (<<) shifts the bit of the number to the specified number of places to the left.\n",
    "Example:"
   ]
  },
  {
   "cell_type": "code",
   "execution_count": 14,
   "id": "aed88b26",
   "metadata": {},
   "outputs": [
    {
     "name": "stdout",
     "output_type": "stream",
     "text": [
      "3\n",
      "0b11001\n",
      "0b11\n"
     ]
    }
   ],
   "source": [
    "a=25\n",
    "right_shift=a>>3     #right shift to 3 place\n",
    "print(right_shift)\n",
    "print(bin(a))             \n",
    "print(bin(right_shift))"
   ]
  },
  {
   "cell_type": "code",
   "execution_count": 15,
   "id": "f3990798",
   "metadata": {},
   "outputs": [
    {
     "name": "stdout",
     "output_type": "stream",
     "text": [
      "144\n",
      "0b100100\n",
      "0b10010000\n"
     ]
    }
   ],
   "source": [
    "a=36\n",
    "left_shift=a<<2     #left shift to 2 place\n",
    "print(left_shift)\n",
    "print(bin(a))             \n",
    "print(bin(left_shift))"
   ]
  },
  {
   "cell_type": "markdown",
   "id": "c9900379",
   "metadata": {},
   "source": [
    "Q.5. Create a list containing int type data of length 15. Then write a code to check if 10 is\n",
    "present in the list or not.\n",
    "\n",
    "Answer: "
   ]
  },
  {
   "cell_type": "code",
   "execution_count": 18,
   "id": "44b390fe",
   "metadata": {},
   "outputs": [
    {
     "name": "stdout",
     "output_type": "stream",
     "text": [
      "There is no value 10 in the list.\n"
     ]
    }
   ],
   "source": [
    "list=[20,4,1,5,26,67,33,124,16,100,6,99,12,45,65]\n",
    "if 10 in list:\n",
    "    print(\"10 is present in the list.\")\n",
    "else:\n",
    "    print(\"There is no value 10 in the list.\")"
   ]
  }
 ],
 "metadata": {
  "kernelspec": {
   "display_name": "Python 3 (ipykernel)",
   "language": "python",
   "name": "python3"
  },
  "language_info": {
   "codemirror_mode": {
    "name": "ipython",
    "version": 3
   },
   "file_extension": ".py",
   "mimetype": "text/x-python",
   "name": "python",
   "nbconvert_exporter": "python",
   "pygments_lexer": "ipython3",
   "version": "3.11.3"
  }
 },
 "nbformat": 4,
 "nbformat_minor": 5
}
