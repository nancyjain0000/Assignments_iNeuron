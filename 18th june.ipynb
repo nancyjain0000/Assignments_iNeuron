{
 "cells": [
  {
   "cell_type": "markdown",
   "id": "f1d6e0d6",
   "metadata": {},
   "source": [
    "1. What is the role of the 'else' block in a try-except statement? Provide an example scenario where it would be useful.\n",
    "\n",
    "Answer: try-except blocks are used to handle the exceptions. try block is used when we have to write the expression where some error might occur in future and except block is used to handle that error. \n",
    "\n",
    "Within try-except block, we have 3 more blocks: raise, else, finally.\n",
    "\n",
    "else block in exception handling is used when we want to print or display something which needs to be evaluated only when the exception is not there. After checking the exception, the python interpreter will go to else block and execuates the code that it displays."
   ]
  },
  {
   "cell_type": "code",
   "execution_count": 1,
   "id": "6751dcf4",
   "metadata": {},
   "outputs": [
    {
     "name": "stdout",
     "output_type": "stream",
     "text": [
      "0.5555555555555556\n"
     ]
    }
   ],
   "source": [
    "try:\n",
    "    n=5\n",
    "    d=9\n",
    "    result=n/d\n",
    "except ZeroDivisionError:\n",
    "    print(\"You have divided the number by zero!\")\n",
    "else:\n",
    "    print(result)"
   ]
  },
  {
   "cell_type": "markdown",
   "id": "b95fabe6",
   "metadata": {},
   "source": [
    "2. Can a try-except block be nested inside another try-except block? Explain with an example.\n",
    "\n",
    "Answer: Yes, a try-except block can be nested inside another try-except block. This allows you to handle different levels of exceptions with different error-handling strategies. The inner try-except block can catch exceptions that are specific to a particular portion of code, while the outer try-except block can catch more general exceptions or provide a broader level of error handling. Example:"
   ]
  },
  {
   "cell_type": "code",
   "execution_count": 3,
   "id": "8f3f1332",
   "metadata": {},
   "outputs": [
    {
     "name": "stdout",
     "output_type": "stream",
     "text": [
      "Enter the numerator: 5\n",
      "Enter the denominator: 0\n",
      "Division by zero is not allowed.\n"
     ]
    }
   ],
   "source": [
    "def example_function():\n",
    "    try:\n",
    "        # Outer try-except block\n",
    "        numerator = int(input(\"Enter the numerator: \"))\n",
    "        denominator = int(input(\"Enter the denominator: \"))\n",
    "        \n",
    "        result = numerator / denominator\n",
    "        \n",
    "        try:\n",
    "            # Inner try-except block\n",
    "            square_root = result**0.5\n",
    "            print(f\"The square root of the result is: {square_root:.2f}\")\n",
    "        except ValueError:\n",
    "            print(\"Could not calculate the square root due to a ValueError.\")\n",
    "        \n",
    "    except ZeroDivisionError:\n",
    "        print(\"Division by zero is not allowed.\")\n",
    "    except ValueError:\n",
    "        print(\"Invalid input. Please enter valid integers for numerator and denominator.\")\n",
    "    except Exception as e:\n",
    "        print(f\"An unexpected error occurred: {str(e)}\")\n",
    "\n",
    "# Call the function\n",
    "example_function()\n"
   ]
  },
  {
   "cell_type": "markdown",
   "id": "37cf70b4",
   "metadata": {},
   "source": [
    "3. How can you create a custom exception class in Python? Provide an example that demonstrates its usage.\n",
    "\n",
    "Answer: You can create a custom exception class in Python by defining a new class that inherits from the built-in Exception class or one of its subclasses. Custom exception classes are useful when you want to raise and handle specific types of exceptions in your code. Example:"
   ]
  },
  {
   "cell_type": "code",
   "execution_count": 8,
   "id": "b82603bc",
   "metadata": {},
   "outputs": [
    {
     "name": "stdout",
     "output_type": "stream",
     "text": [
      "Enter your age:5\n",
      "You cannot vote!\n"
     ]
    }
   ],
   "source": [
    "class WrongAge(Exception):\n",
    "    \"Raised when input age is less than 18\"\n",
    "    \n",
    "    try:\n",
    "        n=18\n",
    "        input_age=int(input(\"Enter your age:\"))\n",
    "        if input_age<n:\n",
    "            raise WrongAge\n",
    "        else: \n",
    "            print(\"You can vote!\")\n",
    "    except WrongAge:\n",
    "        print(\"You cannot vote!\")"
   ]
  },
  {
   "cell_type": "markdown",
   "id": "e3cbecb1",
   "metadata": {},
   "source": [
    "4. What are some common exceptions that are built-in to Python?\n",
    "\n",
    "Answer: There are around 40 built-in exceptions in python. Some of them are:\n",
    "\n",
    "1. ZeroDivisionError: raised when a number is divied by zero\n",
    "2. KeyError: raised when the key is missing in a dictionary\n",
    "3. NotImplementedError: raised when the function or operation is not implemented yet \n",
    "4. ValueError: raised when incorrect value is given, like float value is given instead of integer value\n",
    "5. TypeError: raised when we have made some datatype mismatch\n",
    "6. IndexError: raised when the index value goes out of range\n",
    "7. FileNotFoundError: raised when file we are looking for is missing\n",
    "8. IOError: raised when we want to read or write a file but permission is not there to perform that action\n",
    "9. ImportError: raised when the particular package is not present in python library\n",
    "10. MemoryError: raised when memory becomes short, like the input value takes big space to perform action\n",
    "11. OverflowError: raised when calculation is too heavy to be done on the system\n",
    "12. IndentationError: raised when indentation is wrong\n",
    "13. SyntaxError: raised when syntax mistake is there in the code\n",
    "14. NameError: raised when local or global name is not found\n",
    "\n",
    "\n",
    "5. What is logging in Python, and why is it important in software development?\n",
    "\n",
    "Answer: Logging in Python refers to the process of recording information, messages, and events that occur during the execution of a software program. This information is typically stored in log files or other output destinations like the console. The Python standard library includes a powerful and flexible logging module, which provides a standardized way to incorporate logging into your Python applications.\n",
    "\n",
    "Logging is important in software development for several reasons:\n",
    "\n",
    "1. **Debugging and Troubleshooting:** During development and in production, software can encounter various issues, such as errors, exceptions, and unexpected behavior. Logging allows developers and system administrators to trace the execution flow of a program and identify the root causes of issues. Log messages provide valuable context and information about what happened and why.\n",
    "\n",
    "2. **Monitoring and Analysis:** In production environments, logs are a critical tool for monitoring the health and performance of an application. By analyzing log data, you can gain insights into system behavior, identify performance bottlenecks, and detect security threats or anomalies.\n",
    "\n",
    "3. **Auditing and Compliance:** In some industries and applications, there are legal or regulatory requirements to maintain detailed logs of system activities. Logging helps in creating an audit trail that demonstrates compliance with these requirements.\n",
    "\n",
    "4. **Communication:** Logs can facilitate communication and collaboration among team members. Developers can share log files with colleagues to help diagnose issues, and system administrators can use logs to communicate system status and issues with developers.\n",
    "\n",
    "6. Explain the purpose of log levels in Python logging and provide examples of when each log level would be appropriate.\n",
    "\n",
    "Answer: Log levels in Python logging serve to categorize and prioritize log messages based on their severity. These levels allow developers to control which types of messages are recorded and to filter logs according to their importance. Python's logging module defines several standard log levels, each with a specific purpose. \n",
    "\n",
    "1. **DEBUG (logging.DEBUG):**\n",
    "   - Purpose: Used for detailed information that is primarily intended for debugging and diagnosing issues during development. These messages are typically not needed in production.\n",
    "   - Example: Logging variable values, function call details, or other debugging information.\n",
    "   - Example usage:"
   ]
  },
  {
   "cell_type": "code",
   "execution_count": null,
   "id": "37e3f69f",
   "metadata": {},
   "outputs": [],
   "source": [
    "logging.debug('Variable x = %s', x)"
   ]
  },
  {
   "cell_type": "markdown",
   "id": "c564ca9c",
   "metadata": {},
   "source": [
    "2. **INFO (logging.INFO):**\n",
    "   - Purpose: Used to record general information about the program's execution. It provides a higher level of detail than DEBUG and is often used to capture events and milestones in the application's operation.\n",
    "   - Example: Logging when the application starts, stops, or important configuration changes.\n",
    "   - Example usage:"
   ]
  },
  {
   "cell_type": "code",
   "execution_count": null,
   "id": "6a58db31",
   "metadata": {},
   "outputs": [],
   "source": [
    "logging.info('Application started')"
   ]
  },
  {
   "cell_type": "markdown",
   "id": "95f86db6",
   "metadata": {},
   "source": [
    "3. **WARNING (logging.WARNING or logging.WARN):**\n",
    "   - Purpose: Indicates a potential issue or something unexpected but not critical. It suggests that there may be a problem that needs attention but doesn't stop the program's execution.\n",
    "   - Example: Logging deprecated feature usage or non-fatal errors.\n",
    "   - Example usage:"
   ]
  },
  {
   "cell_type": "code",
   "execution_count": null,
   "id": "0ae6ad04",
   "metadata": {},
   "outputs": [],
   "source": [
    "logging.warning('User attempted an invalid action')"
   ]
  },
  {
   "cell_type": "markdown",
   "id": "8731e9f3",
   "metadata": {},
   "source": [
    "4. **ERROR (logging.ERROR):**\n",
    "   - Purpose: Indicates a significant error that prevented part of the application from functioning correctly. These messages should be logged when an operation cannot proceed as intended.\n",
    "   - Example: Logging exceptions and stack traces when an error occurs.\n",
    "   - Example usage:"
   ]
  },
  {
   "cell_type": "code",
   "execution_count": null,
   "id": "ede1efa0",
   "metadata": {},
   "outputs": [],
   "source": [
    "try:\n",
    "    # Some operation that may raise an exception\n",
    "except Exception as e:\n",
    "    logging.error('An error occurred: %s', str(e))"
   ]
  },
  {
   "cell_type": "markdown",
   "id": "21ca5a3e",
   "metadata": {},
   "source": [
    "5. **CRITICAL (logging.CRITICAL or logging.FATAL):**\n",
    "   - Purpose: Reserved for the most severe errors or issues that prevent the application from continuing to run. These messages typically lead to application termination.\n",
    "   - Example: Logging when a critical system component fails.\n",
    "   - Example usage:"
   ]
  },
  {
   "cell_type": "code",
   "execution_count": null,
   "id": "27ed448a",
   "metadata": {},
   "outputs": [],
   "source": [
    "logging.critical('Critical system component failed. Terminating application.')"
   ]
  },
  {
   "cell_type": "markdown",
   "id": "5ac8d8ee",
   "metadata": {},
   "source": [
    "By using log levels effectively, you can control the amount of information recorded in your logs and prioritize issues based on their severity. During development and testing, you may use lower log levels like DEBUG and INFO to gather information, and in production, you can configure your logging system to capture only WARNING, ERROR, and CRITICAL messages to focus on critical issues. This helps in diagnosing problems, monitoring applications, and maintaining a clear log history."
   ]
  },
  {
   "cell_type": "markdown",
   "id": "f244e34c",
   "metadata": {},
   "source": [
    "7. What are log formatters in Python logging, and how can you customise the log message format using formatters?\n",
    "\n",
    "Answer: Log formatters in Python logging are objects responsible for specifying the layout and structure of log messages. They allow you to control how log messages are presented in the log output, including the content, order, and formatting of various log components like timestamps, log levels, logger names, and the actual log message. Python's logging module provides a flexible way to customize log message formats using formatters.\n",
    "\n",
    "You can create and customize log message formats using formatters:\n",
    "\n",
    "1. **Built-in Formatters:**\n",
    "   Python's logging module comes with some built-in formatters that you can use. These include:\n",
    "   - `logging.Formatter.default`: A basic formatter that includes timestamp, log level, and log message.\n",
    "   - `logging.Formatter.simple`: A formatter that only includes the log message.\n",
    "\n",
    "   You can use these built-in formatters when configuring your log handlers.\n",
    "\n",
    "2. **Custom Formatters:**\n",
    "   If you want to create a custom log message format, you can define your own formatter by subclassing the `logging.Formatter` class. To create a custom formatter, you need to implement the `format` method, which takes a log record as its argument and returns a formatted string.\n",
    "\n",
    "3. **Formatting Options:**\n",
    "   You can use various placeholders within the format string passed to your custom formatter. Some commonly used placeholders include:\n",
    "   - `%(asctime)s`: The timestamp when the log record was created.\n",
    "   - `%(levelname)s`: The log level (e.g., INFO, WARNING).\n",
    "   - `%(name)s`: The logger's name.\n",
    "   - `%(message)s`: The actual log message.\n",
    "\n",
    "   You can customize the format string to include these placeholders in the order and format you desire.\n",
    "\n",
    "4. **Setting Formatters for Handlers:**\n",
    "   After creating a custom formatter, you can associate it with a log handler using the `setFormatter` method. This way, the formatter will be used to format log messages that pass through that handler.\n",
    "\n",
    "By customizing log message formats using formatters, you can tailor the appearance of your log output to meet your specific needs. This allows you to present log information in a way that makes it easier to read, understand, and analyze, whether for debugging during development or for monitoring in production environments.\n",
    "\n",
    "8. How can you set up logging to capture log messages from multiple modules or classes in a Python application?\n",
    "\n",
    "Answer: Setting up logging to capture log messages from multiple modules or classes in a Python application involves configuring a centralized logging system and ensuring that all parts of your code use the same logging configuration. \n",
    "\n",
    "This allows you to collect and manage log messages from various modules or classes in a consistent and organized manner. \n",
    "\n",
    "\n",
    "9. What is the difference between the logging and print statements in Python? When should you use logging over print statements in a real-world application?\n",
    "\n",
    "Answer: Logging and print statements in Python serve different purposes, and they are used in different contexts within a real-world application. \n",
    "\n",
    "\n",
    "**Logging:**\n",
    "\n",
    "1. **Purpose:** Logging is primarily used for recording information about the execution of a program, such as messages, warnings, errors, and other events. It is a systematic way to document what happens during program execution.\n",
    "\n",
    "2. **Destination:** Log messages are typically written to log files or other designated output destinations (e.g., console, network, syslog) rather than being displayed directly to the user.\n",
    "\n",
    "3. **Levels:** Logging provides different log levels (e.g., DEBUG, INFO, WARNING, ERROR, CRITICAL) to categorize the severity of messages. This allows you to filter and control the amount of information captured in logs.\n",
    "\n",
    "4. **Flexibility:** Logging allows you to customize the log message format, set log levels, configure multiple log handlers, and route log messages to different destinations based on their severity or source.\n",
    "\n",
    "5. **Control:** Logging is controllable and configurable at runtime. You can change the log level or destination without modifying the code.\n",
    "\n",
    "**Print Statements:**\n",
    "\n",
    "1. **Purpose:** Print statements are used for displaying information directly to the console during program execution. They are primarily for debugging and providing immediate feedback to developers.\n",
    "\n",
    "2. **Destination:** Print statements output to the console, and the messages are typically visible only during the current run of the program. They are not meant for long-term documentation.\n",
    "\n",
    "3. **Levels:** Print statements do not have different levels of severity like logging. All print statements are treated equally.\n",
    "\n",
    "4. **Format:** The format of print statements is simple, and they do not offer the same level of customization and structure as log messages.\n",
    "\n",
    "5. **Permanence:** Print statements are not easily controlled or configured at runtime. To remove or change print statements, you must modify the code and redeploy the application.\n",
    "\n",
    "While print statements are useful for quick debugging and immediate feedback during development, logging is the preferred choice for recording, categorizing, and controlling log messages in real-world applications. Logging provides more structure, flexibility, and control over the logging process, making it a valuable tool for monitoring, debugging, and maintaining software in production environments.\n",
    "\n",
    "10. Write a Python program that logs a message to a file named \"app.log\" with the\n",
    "following requirements:\n",
    "\n",
    "● The log message should be \"Hello, World!\"\n",
    "\n",
    "● The log level should be set to \"INFO.\"\n",
    "\n",
    "● The log file should append new log entries without overwriting previous ones."
   ]
  },
  {
   "cell_type": "code",
   "execution_count": 11,
   "id": "d3f66e9c",
   "metadata": {},
   "outputs": [],
   "source": [
    "import logging\n",
    "\n",
    "# Configure the logging system\n",
    "logging.basicConfig(\n",
    "    filename='app.log',  # Log to a file named \"app.log\"\n",
    "    level=logging.INFO,  # Set the log level to INFO\n",
    "    format='%(asctime)s - %(levelname)s - %(message)s',\n",
    ")\n",
    "\n",
    "# Log the \"Hello, World!\" message with INFO level\n",
    "logging.info('Hello, World!')\n"
   ]
  },
  {
   "cell_type": "markdown",
   "id": "5b7d39c8",
   "metadata": {},
   "source": [
    "11. Create a Python program that logs an error message to the console and a file named \"errors.log\" if an exception occurs during the program's execution. The error message should include the exception type and a timestamp."
   ]
  },
  {
   "cell_type": "code",
   "execution_count": 14,
   "id": "85cc41b1",
   "metadata": {},
   "outputs": [],
   "source": [
    "import logging\n",
    "import traceback\n",
    "import datetime\n",
    "\n",
    "# Configure the logging system\n",
    "logging.basicConfig(\n",
    "    level=logging.ERROR,  # Set the log level to ERROR or higher\n",
    "    format='%(asctime)s - %(levelname)s - %(message)s',\n",
    "    handlers=[\n",
    "        logging.StreamHandler(),  # Log to the console\n",
    "        logging.FileHandler('errors.log')  # Log to a file named \"errors.log\"\n",
    "    ]\n",
    ")\n",
    "\n",
    "try:\n",
    "    # Code that may raise an exception\n",
    "    result = 10 / 0  # This will raise a ZeroDivisionError\n",
    "except Exception as e:\n",
    "    # Log the exception with its type and a timestamp\n",
    "    error_message = f\"Exception type: {type(e).__name__}, Timestamp: {datetime.datetime.now()}\"\n",
    "    logging.error(error_message)\n",
    "\n",
    "    # Optionally, you can log the full exception traceback\n",
    "    traceback_message = traceback.format_exc()\n",
    "    logging.error(traceback_message)"
   ]
  }
 ],
 "metadata": {
  "kernelspec": {
   "display_name": "Python 3 (ipykernel)",
   "language": "python",
   "name": "python3"
  },
  "language_info": {
   "codemirror_mode": {
    "name": "ipython",
    "version": 3
   },
   "file_extension": ".py",
   "mimetype": "text/x-python",
   "name": "python",
   "nbconvert_exporter": "python",
   "pygments_lexer": "ipython3",
   "version": "3.11.3"
  }
 },
 "nbformat": 4,
 "nbformat_minor": 5
}
