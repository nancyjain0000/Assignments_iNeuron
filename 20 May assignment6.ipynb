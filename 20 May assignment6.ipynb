{
 "cells": [
  {
   "cell_type": "markdown",
   "id": "0ac28e2f",
   "metadata": {},
   "source": [
    "Q.1. What are keywords in python? Using the keyword library, print all the python keywords.\n",
    "\n",
    "Answer: Keywords are reserved words in python that can't be used for variables. Keywords have specific meaning. In python, there are around 35 keywords. Some example of keywords are: for, while, print, in, if, elif, def, etc.\n",
    "To print all keywords, we first import the keyword library like this:"
   ]
  },
  {
   "cell_type": "code",
   "execution_count": 1,
   "id": "18f69373",
   "metadata": {},
   "outputs": [
    {
     "name": "stdout",
     "output_type": "stream",
     "text": [
      "['False', 'None', 'True', 'and', 'as', 'assert', 'async', 'await', 'break', 'class', 'continue', 'def', 'del', 'elif', 'else', 'except', 'finally', 'for', 'from', 'global', 'if', 'import', 'in', 'is', 'lambda', 'nonlocal', 'not', 'or', 'pass', 'raise', 'return', 'try', 'while', 'with', 'yield']\n"
     ]
    }
   ],
   "source": [
    "import keyword\n",
    "print(keyword.kwlist)"
   ]
  },
  {
   "cell_type": "markdown",
   "id": "54f9f3a1",
   "metadata": {},
   "source": [
    "Q.2. What are the rules to create variables in python?\n",
    "\n",
    "Answer: Rules to create variables in python are:\n",
    "1. Variables should start with a-z, A-Z or underscore (_)\n",
    "2. Variable cannot start with digits (0-9)\n",
    "3. Variables cannot have any other special characters like $, %, -, @ etc\n",
    "4. Variables cannot be keywords like for, in, False, while, def etc.\n",
    "5. Variables are case sensitive. Example: Age and AGE are two different variables\n",
    "6. Variable name should be meaningful for better readability of the program\n",
    "\n",
    "Some variable names can be: student_name, age, city, number, etc."
   ]
  },
  {
   "cell_type": "markdown",
   "id": "e597ef2c",
   "metadata": {},
   "source": [
    "Q.3. What are the standards and conventions followed for the nomenclature of variables in\n",
    "python to improve code readability and maintainability?\n",
    "\n",
    "Answer: Standard convention followed for the nomenclature of variables in python is:\n",
    "1. Variable name should be meaningful for better readability of the program.\n",
    "2. If a variable name starts with single underscore, it indicates that the variable is a non-public part of class, module or function.\n",
    "3. If the variable name starts with double underscore, it's strongly private variable.\n",
    "4. If the variable name also ends with double underscore, it indicates that it is a language- defined special name\n",
    "5. Use Snake Case for Variable Names: Use all lowercase letters with words separated by underscores. This style is known as snake_case. For example: my_variable_name."
   ]
  },
  {
   "cell_type": "markdown",
   "id": "28926122",
   "metadata": {},
   "source": [
    "Q.4. What will happen if a keyword is used as a variable name?\n",
    "\n",
    "Answer: If a keyword is used as a variable name, the program will throw an error as invalid syntax. Keywords have predefined meanings and roles in the Python language, so they cannot be used for other purposes like naming variables, functions, or classes. The Python interpreter recognizes keywords and treats them as special tokens with specific meanings."
   ]
  },
  {
   "cell_type": "markdown",
   "id": "eca43015",
   "metadata": {},
   "source": [
    "Q.5. For what purpose def keyword is used?\n",
    "\n",
    "Answer: def keyword is used to define a function. Function is defined by using the def keyword first, then proceding with function name.\n",
    "Example:"
   ]
  },
  {
   "cell_type": "code",
   "execution_count": 3,
   "id": "51959178",
   "metadata": {},
   "outputs": [
    {
     "data": {
      "text/plain": [
       "4.5"
      ]
     },
     "execution_count": 3,
     "metadata": {},
     "output_type": "execute_result"
    }
   ],
   "source": [
    "def average_num():\n",
    "    num1=4\n",
    "    num2=5\n",
    "    average=(num1+num2)/2\n",
    "    return average\n",
    "\n",
    "average_num()"
   ]
  },
  {
   "cell_type": "markdown",
   "id": "7df2b082",
   "metadata": {},
   "source": [
    "Q.6. What is the operation of this special character ‘\\’?\n",
    "\n",
    "Answer: The backslash \\ is a special character in Python and many other programming languages.It is used as an escape character to indicate that the character following the backslash should be treated specially.\n",
    "\n",
    "Some common uses of the backslash \\ in Python:\n",
    "\n",
    "Continuation of Long Lines: A backslash at the end of a line allows you to continue the line to the next one. This is useful for breaking long lines of code for better readability.\n",
    "\n",
    "Escape Sequences in Strings:The backslash is used to create escape sequences within strings to represent characters that are not easily printable or that have special meanings,such as newline \\n, tab \\t, backspace \\b, and more.\n",
    "\n",
    "Special Characters in Strings: You can use the backslash to include special characters like single quotes ' or double quotes \" within a string enclosed by the same type of quotes.\n",
    "\n",
    "Example:"
   ]
  },
  {
   "cell_type": "code",
   "execution_count": 2,
   "id": "45342547",
   "metadata": {},
   "outputs": [
    {
     "name": "stdout",
     "output_type": "stream",
     "text": [
      "Hello World,\n",
      "Myself Nancy Jain!\n",
      "She said, \"Hello!\" Let's catch up soon.\n",
      "36\n"
     ]
    }
   ],
   "source": [
    "# Escape sequences\n",
    "print(\"Hello World,\\nMyself Nancy Jain!\")  \n",
    "\n",
    "# Special characters\n",
    "print(\"She said, \\\"Hello!\\\" Let's catch up soon.\")\n",
    "\n",
    "# Continuation of lines\n",
    "a= 1+2+3+1+2+3\\\n",
    "   +1+2+3+1+2+3\\\n",
    "   +1+2+3+1+2+3\n",
    "print(a)"
   ]
  },
  {
   "cell_type": "markdown",
   "id": "57cd6b78",
   "metadata": {},
   "source": [
    "Q.7. Give an example of the following conditions:\n",
    "(i) Homogeneous list\n",
    "(ii) Heterogeneous set\n",
    "(iii) Homogeneous tuple\n",
    "\n",
    "Answer: \n",
    "(i) list1=[1, 2, 3, 4, 5, 6, 7, 8, 9, 10]\n",
    "(ii) set1={'Apple', 'Mango', 1, 3.2, True, \"India\"}\n",
    "(iii) tuple1=(\"Nancy\", \"Sanjana\", \"Sanjay\", \"Yash\")"
   ]
  },
  {
   "cell_type": "markdown",
   "id": "75f29f5f",
   "metadata": {},
   "source": [
    "Q.8. Explain the mutable and immutable data types with proper explanation & examples.\n",
    "\n",
    "Answer: Mutable means it can be changed or altered after creation. Lists, dictionaries, sets are mutable in nature which means they can be altered even after creation.\n",
    "Immutable means it cannot be changed or altered after creation. Tuples are immutable in nature.\n",
    "Example:"
   ]
  },
  {
   "cell_type": "code",
   "execution_count": 18,
   "id": "a93bfb76",
   "metadata": {},
   "outputs": [
    {
     "name": "stdout",
     "output_type": "stream",
     "text": [
      "[1, 2, 3, 4, 5]\n",
      "[1, 2, 10, 3, 4, 5]\n"
     ]
    }
   ],
   "source": [
    "list1=[1,2,3,4,5]\n",
    "print(list1)\n",
    "list1.insert(2,10)\n",
    "print(list1)"
   ]
  },
  {
   "cell_type": "code",
   "execution_count": 20,
   "id": "6be84a93",
   "metadata": {},
   "outputs": [
    {
     "name": "stdout",
     "output_type": "stream",
     "text": [
      "(1, 2, 3, 4, 5)\n"
     ]
    },
    {
     "ename": "AttributeError",
     "evalue": "'tuple' object has no attribute 'append'",
     "output_type": "error",
     "traceback": [
      "\u001b[1;31m---------------------------------------------------------------------------\u001b[0m",
      "\u001b[1;31mAttributeError\u001b[0m                            Traceback (most recent call last)",
      "Cell \u001b[1;32mIn[20], line 3\u001b[0m\n\u001b[0;32m      1\u001b[0m tuple1\u001b[38;5;241m=\u001b[39m(\u001b[38;5;241m1\u001b[39m,\u001b[38;5;241m2\u001b[39m,\u001b[38;5;241m3\u001b[39m,\u001b[38;5;241m4\u001b[39m,\u001b[38;5;241m5\u001b[39m)\n\u001b[0;32m      2\u001b[0m \u001b[38;5;28mprint\u001b[39m(tuple1)\n\u001b[1;32m----> 3\u001b[0m tuple1\u001b[38;5;241m.\u001b[39mappend(\u001b[38;5;241m10\u001b[39m)\n\u001b[0;32m      4\u001b[0m \u001b[38;5;28mprint\u001b[39m(tuple1)\n",
      "\u001b[1;31mAttributeError\u001b[0m: 'tuple' object has no attribute 'append'"
     ]
    }
   ],
   "source": [
    "tuple1=(1,2,3,4,5)\n",
    "print(tuple1)\n",
    "tuple1.append(10)\n",
    "print(tuple1)"
   ]
  },
  {
   "cell_type": "markdown",
   "id": "87a9357e",
   "metadata": {},
   "source": [
    "Q.9.Write a code to create the given structure using only for loop.\n",
    "\n",
    "        *\n",
    "       ***\n",
    "      *****\n",
    "     *******\n",
    "    *********"
   ]
  },
  {
   "cell_type": "code",
   "execution_count": 3,
   "id": "68be70d4",
   "metadata": {},
   "outputs": [
    {
     "name": "stdout",
     "output_type": "stream",
     "text": [
      "    *\n",
      "   ***\n",
      "  *****\n",
      " *******\n",
      "*********\n"
     ]
    }
   ],
   "source": [
    "n = 5  # Number of rows\n",
    "\n",
    "for i in range(n):\n",
    "    # Print spaces\n",
    "    for j in range(n - i - 1):\n",
    "        print(\" \", end=\"\")\n",
    "    \n",
    "    # Print stars\n",
    "    for k in range(2 * i + 1):\n",
    "        print(\"*\", end=\"\")\n",
    "    \n",
    "    print()  # Move to the next line"
   ]
  },
  {
   "cell_type": "markdown",
   "id": "ce955c4b",
   "metadata": {},
   "source": [
    "Q.10. Write a code to create the given structure using while loop.\n",
    "\n",
    "        |||||||||\n",
    "         |||||||\n",
    "          |||||\n",
    "           |||\n",
    "            |"
   ]
  },
  {
   "cell_type": "code",
   "execution_count": 4,
   "id": "221366f0",
   "metadata": {},
   "outputs": [
    {
     "name": "stdout",
     "output_type": "stream",
     "text": [
      "|||||||||\n",
      " |||||||\n",
      "  |||||\n",
      "   |||\n",
      "    |\n"
     ]
    }
   ],
   "source": [
    "n = 5  # Number of rows\n",
    "i = n - 1  # Current row number\n",
    "\n",
    "while i >= 0:\n",
    "    # Print spaces\n",
    "    j = 0\n",
    "    while j < n - i - 1:\n",
    "        print(\" \", end=\"\")\n",
    "        j += 1\n",
    "    \n",
    "    # Print vertical bars\n",
    "    k = 0\n",
    "    while k < 2 * i + 1:\n",
    "        print(\"|\", end=\"\")\n",
    "        k += 1\n",
    "    \n",
    "    print()  # Move to the next line\n",
    "    i -= 1"
   ]
  }
 ],
 "metadata": {
  "kernelspec": {
   "display_name": "Python 3 (ipykernel)",
   "language": "python",
   "name": "python3"
  },
  "language_info": {
   "codemirror_mode": {
    "name": "ipython",
    "version": 3
   },
   "file_extension": ".py",
   "mimetype": "text/x-python",
   "name": "python",
   "nbconvert_exporter": "python",
   "pygments_lexer": "ipython3",
   "version": "3.11.3"
  }
 },
 "nbformat": 4,
 "nbformat_minor": 5
}
