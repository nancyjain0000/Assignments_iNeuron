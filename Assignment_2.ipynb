{
 "cells": [
  {
   "cell_type": "markdown",
   "id": "65f05216",
   "metadata": {},
   "source": [
    "1. What are the two values of the Boolean data type? How do you write them?\n",
    "\n",
    "Answer: Two values of Boolean data type is True and False. The correct way of writing these values is True and False, means by writing the first letter capital and other letters small."
   ]
  },
  {
   "cell_type": "markdown",
   "id": "4127e161",
   "metadata": {},
   "source": [
    "2. What are the three different types of Boolean operators?\n",
    "\n",
    "Answer: Three different types of Boolean operators are and, or, not.\n",
    "Example:"
   ]
  },
  {
   "cell_type": "code",
   "execution_count": 1,
   "id": "04a553dc",
   "metadata": {},
   "outputs": [
    {
     "name": "stdout",
     "output_type": "stream",
     "text": [
      "False\n",
      "True\n",
      "False\n"
     ]
    }
   ],
   "source": [
    "a=True   \n",
    "b=False\n",
    "print(a and b)   \n",
    "print(a or b)\n",
    "print(not a)"
   ]
  },
  {
   "attachments": {
    "Screenshot%202023-08-28%20204604.png": {
     "image/png": "[encoded data removed]"
    }
   },
   "cell_type": "markdown",
   "id": "4c78f2ce",
   "metadata": {},
   "source": [
    "3. Make a list of each Boolean operator's truth tables (i.e. every possible combination of Boolean values for the operator and what it evaluate ).\n",
    "\n",
    "Answer: \n",
    "![Screenshot%202023-08-28%20204604.png](attachment:Screenshot%202023-08-28%20204604.png)"
   ]
  },
  {
   "attachments": {
    "Screenshot%202023-08-28%20205208.png": {
     "image/png": "[encoded data removed]"
    }
   },
   "cell_type": "markdown",
   "id": "992a179d",
   "metadata": {},
   "source": [
    "4. What are the values of the following expressions?\n",
    "(5 > 4) and (3 == 5)\n",
    "not (5 > 4)\n",
    "(5 > 4) or (3 == 5)\n",
    "not ((5 > 4) or (3 == 5))\n",
    "(True and True) and (True == False)\n",
    "(not False) or (not True)\n",
    "\n",
    "Answer: \n",
    "![Screenshot%202023-08-28%20205208.png](attachment:Screenshot%202023-08-28%20205208.png)"
   ]
  },
  {
   "cell_type": "markdown",
   "id": "a8cd1d60",
   "metadata": {},
   "source": [
    "5. What are the six comparison operators?\n",
    "\n",
    "Answer: Six comparison operators are <, >, <=, >=, ==, !="
   ]
  },
  {
   "cell_type": "markdown",
   "id": "5e33869b",
   "metadata": {},
   "source": [
    "6. How do you tell the difference between the equal to and assignment operators? Describe a condition and when you would use one.\n",
    "\n",
    "Answer: assignment operator is used when we are assigning a value to the variable whereas equal to operator is used to check the equality of the two operands. Example:\n",
    "a=10 assigns the value 10 to the variable \"a\" whereas 5==10 will check whether the two values are equal or not."
   ]
  },
  {
   "cell_type": "code",
   "execution_count": 2,
   "id": "67fdc2e3",
   "metadata": {},
   "outputs": [
    {
     "name": "stdout",
     "output_type": "stream",
     "text": [
      "True\n"
     ]
    }
   ],
   "source": [
    "a=5    #Here value 5 is assigned to the variable \"a\"\n",
    "print(a==5)   #Here we are printing the value after comparing it with 5"
   ]
  },
  {
   "cell_type": "markdown",
   "id": "2a9c4180",
   "metadata": {},
   "source": [
    "7. Identify the three blocks in this code:\n",
    "spam = 0\n",
    "if spam == 10:\n",
    "print('eggs')\n",
    "if spam > 5:\n",
    "print('bacon')\n",
    "else:\n",
    "print('ham')\n",
    "print('spam')\n",
    "print('spam')\n",
    "\n",
    "Answer: Three blocks in the code are:"
   ]
  },
  {
   "cell_type": "code",
   "execution_count": 3,
   "id": "dddb6abf",
   "metadata": {},
   "outputs": [
    {
     "name": "stdout",
     "output_type": "stream",
     "text": [
      "ham\n",
      "spam\n",
      "spam\n"
     ]
    }
   ],
   "source": [
    "spam = 0\n",
    "if spam == 10:\n",
    "    print('eggs')\n",
    "if spam > 5:\n",
    "    print('bacon')\n",
    "else:\n",
    "    print('ham')\n",
    "    print('spam')\n",
    "    print('spam')"
   ]
  },
  {
   "cell_type": "markdown",
   "id": "c487ee16",
   "metadata": {},
   "source": [
    "8. Write code that prints Hello if 1 is stored in spam, prints Howdy if 2 is stored in spam, and prints Greetings! if anything else is stored in spam.\n",
    "\n",
    "Answer:"
   ]
  },
  {
   "cell_type": "code",
   "execution_count": 6,
   "id": "c894c24b",
   "metadata": {},
   "outputs": [
    {
     "name": "stdout",
     "output_type": "stream",
     "text": [
      "Enter the value:4\n",
      "Greetings!\n"
     ]
    }
   ],
   "source": [
    "spam=int(input(\"Enter the value:\"))\n",
    "if spam==1:\n",
    "    print(\"Hello\")\n",
    "elif spam==2:\n",
    "    print(\"Howdy\")\n",
    "else:\n",
    "    print(\"Greetings!\")"
   ]
  },
  {
   "cell_type": "markdown",
   "id": "1fd2727c",
   "metadata": {},
   "source": [
    "9. If your programme is stuck in an endless loop, what keys you’ll press?\n",
    "\n",
    "Answer: To stop the endless loop in python, we can press ctrl+C to end the loop."
   ]
  },
  {
   "cell_type": "markdown",
   "id": "1e460eaf",
   "metadata": {},
   "source": [
    "10. How can you tell the difference between break and continue?\n",
    "\n",
    "Answer: break statement stops all the iterations and comes out of the loop whereas continue statement will only skip the current iteration and will continue with next iteration.\n",
    "break statement is used to end the loop after certain condition is fulfiled. continue statement is used to skip that particular iteration if the condition satisfies and continues with next iteration."
   ]
  },
  {
   "cell_type": "markdown",
   "id": "5e394a11",
   "metadata": {},
   "source": [
    "11. In a for loop, what is the difference between range(10), range(0, 10), and range(0, 10, 1)?\n",
    "\n",
    "Answer: The general syntax for range() is range(start, stop, step) where start is the starting index, stop is the ending index and step is the step size.\n",
    "Here range(10) will run the loop for the value of 0,1,2,....,9.\n",
    "range(0,10) will also run the loop for the value of 0,1,2,....,9 but here we specified the starting index 0. By default, if staring index is not mentioned, python will take it as 0.\n",
    "range(0,10,1) will also run the loop for the value of 0,1,2,....9 with the interval of 1.\n",
    "\n",
    "Output of all three range functions will be same."
   ]
  },
  {
   "cell_type": "markdown",
   "id": "78e87e89",
   "metadata": {},
   "source": [
    "12. Write a short program that prints the numbers 1 to 10 using a for loop. Then write an equivalent program that prints the numbers 1 to 10 using a while loop.\n",
    "\n",
    "Answer: "
   ]
  },
  {
   "cell_type": "code",
   "execution_count": 20,
   "id": "707e077e",
   "metadata": {},
   "outputs": [
    {
     "name": "stdout",
     "output_type": "stream",
     "text": [
      "1\n",
      "2\n",
      "3\n",
      "4\n",
      "5\n",
      "6\n",
      "7\n",
      "8\n",
      "9\n",
      "10\n"
     ]
    }
   ],
   "source": [
    "#print 1 to 10 using for loop\n",
    "for i in range(10):\n",
    "    print(i+1)"
   ]
  },
  {
   "cell_type": "code",
   "execution_count": 16,
   "id": "54a3c714",
   "metadata": {},
   "outputs": [
    {
     "name": "stdout",
     "output_type": "stream",
     "text": [
      "1\n",
      "2\n",
      "3\n",
      "4\n",
      "5\n",
      "6\n",
      "7\n",
      "8\n",
      "9\n",
      "10\n"
     ]
    }
   ],
   "source": [
    "#print 1 to 10 using while loop\n",
    "i=1\n",
    "while i<=10:\n",
    "    print(i)\n",
    "    i=i+1"
   ]
  },
  {
   "cell_type": "markdown",
   "id": "d6c5adc2",
   "metadata": {},
   "source": [
    "13. If you had a function named bacon() inside a module named spam, how would you call it after importing spam?\n",
    "\n",
    "Answer: To call the function bacon() inside the module spam after importing spam, we will use the following syntax:\n",
    "\n",
    "spam.bacon()\n",
    "\n",
    "This would call the bacon() function in the spam module and execute its code.\n",
    "\n",
    "For example, suppose we have the following code in a file named spam.py:\n",
    "\n",
    "def bacon(): \n",
    "    print(\"Bacon is delicious!\")\n",
    "\n",
    "Then, we could import the spam module and call the bacon() function as follows:\n",
    "\n",
    "import spam\n",
    "spam.bacon()"
   ]
  }
 ],
 "metadata": {
  "kernelspec": {
   "display_name": "Python 3 (ipykernel)",
   "language": "python",
   "name": "python3"
  },
  "language_info": {
   "codemirror_mode": {
    "name": "ipython",
    "version": 3
   },
   "file_extension": ".py",
   "mimetype": "text/x-python",
   "name": "python",
   "nbconvert_exporter": "python",
   "pygments_lexer": "ipython3",
   "version": "3.11.3"
  }
 },
 "nbformat": 4,
 "nbformat_minor": 5
}
