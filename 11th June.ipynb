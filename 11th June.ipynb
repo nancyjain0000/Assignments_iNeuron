{
 "cells": [
  {
   "cell_type": "markdown",
   "id": "550653c9",
   "metadata": {},
   "source": [
    "1. What is a lambda function in Python, and how does it differ from a regular function?\n",
    "\n",
    "Answer: A lambda function in Python is a small, anonymous function defined using the lambda keyword. It is also known as a lambda expression. Lambda functions are typically used for simple operations where you don't want to define a full-fledged named function using the def keyword.\n",
    "\n",
    "\n",
    "Difference between lambda function and regular function:\n",
    "\n",
    "**Anonymous vs. Named**: Lambda functions are anonymous, meaning they don't have a name. Regular functions, defined with the def keyword, have a name.\n",
    "\n",
    "**Limited Functionality**: Lambda functions are limited in functionality compared to regular functions. They are designed for simple, one-liner operations. Regular functions can have multiple statements, loops, conditions, and more complex logic.\n",
    "\n",
    "**Single Expression**: Lambda functions can only contain a single expression, which is evaluated and returned. Regular functions can have multiple statements and a return statement with multiple return points.\n",
    "\n",
    "**No Documentation Strings**: Lambda functions cannot have docstrings (the multi-line string usually used for documentation) like regular functions can.\n",
    "\n",
    "**Scope**: Lambda functions have access to the variables in the enclosing scope (i.e., they can capture variables from the outer scope), just like regular functions."
   ]
  },
  {
   "cell_type": "code",
   "execution_count": 3,
   "id": "e99aa248",
   "metadata": {},
   "outputs": [
    {
     "name": "stdout",
     "output_type": "stream",
     "text": [
      "11\n"
     ]
    },
    {
     "data": {
      "text/plain": [
       "11"
      ]
     },
     "execution_count": 3,
     "metadata": {},
     "output_type": "execute_result"
    }
   ],
   "source": [
    "#lambda function\n",
    "add=lambda x,y:x+y\n",
    "print(add(5,6))\n",
    "\n",
    "#regular function\n",
    "def add(x,y):\n",
    "    return x+y\n",
    "\n",
    "add(5,6)"
   ]
  },
  {
   "cell_type": "markdown",
   "id": "713a65e9",
   "metadata": {},
   "source": [
    "2. Can a lambda function in Python have multiple arguments? If yes, how can you define and use them?\n",
    "\n",
    "Answer: Yes, a lambda function in Python can have multiple arguments. You can define and use multiple arguments in a lambda function in the same way you define single arguments, separated by commas.\n",
    "\n",
    "Example:"
   ]
  },
  {
   "cell_type": "code",
   "execution_count": 6,
   "id": "c32c9b45",
   "metadata": {},
   "outputs": [
    {
     "data": {
      "text/plain": [
       "9"
      ]
     },
     "execution_count": 6,
     "metadata": {},
     "output_type": "execute_result"
    }
   ],
   "source": [
    "add=lambda x,y:x+y\n",
    "add(2,7)\n",
    "\n",
    "#In the example above, the lambda function add takes two arguments, x and y, and returns their sum. \n",
    "#This lambda function can be used just like any other function with multiple arguments."
   ]
  },
  {
   "cell_type": "markdown",
   "id": "e8da6538",
   "metadata": {},
   "source": [
    "3. How are lambda functions typically used in Python? Provide an example use case.\n",
    "\n",
    "Answer: A lambda function in Python is a small, anonymous function defined using the lambda keyword. It is also known as a lambda expression. Lambda functions are typically used for simple operations where you don't want to define a full-fledged named function using the def keyword. \n",
    "\n",
    "A lambda function in Python can have multiple arguments. You can define and use multiple arguments in a lambda function in the same way you define single arguments, separated by commas.\n",
    "\n",
    "Example:"
   ]
  },
  {
   "cell_type": "code",
   "execution_count": 7,
   "id": "16fd1777",
   "metadata": {},
   "outputs": [
    {
     "data": {
      "text/plain": [
       "14"
      ]
     },
     "execution_count": 7,
     "metadata": {},
     "output_type": "execute_result"
    }
   ],
   "source": [
    "multiply=lambda a,b:a*b\n",
    "multiply(2,7)"
   ]
  },
  {
   "cell_type": "markdown",
   "id": "006597d2",
   "metadata": {},
   "source": [
    "4. What are the advantages and limitations of lambda functions compared to regular functions in Python?\n",
    "\n",
    "Answer: Lambda functions in Python have their own advantages and limitations when compared to regular functions defined using the `def` keyword.\n",
    "\n",
    "**Advantages of Lambda Functions:**\n",
    "\n",
    "1. **Conciseness**: Lambda functions are concise and allow you to define small, simple functions in a single line of code, making your code more readable and reducing verbosity.\n",
    "\n",
    "2. **Readability**: In some cases, lambda functions can enhance code readability, especially when used in conjunction with higher-order functions.\n",
    "\n",
    "3. **No Need for Naming**: You don't need to assign a name to a lambda function, which can be beneficial when you only use the function in one place and don't want to clutter the namespace.\n",
    "\n",
    "4. **Functional Programming**: Lambda functions are a natural fit for functional programming constructs, enabling you to write more functional-style code.\n",
    "\n",
    "5. **Inline Usage**: Lambda functions can be used inline within expressions, making them convenient for quick and short operations.\n",
    "\n",
    "**Limitations of Lambda Functions:**\n",
    "\n",
    "1. **Limited Complexity**: Lambda functions are limited to a single expression, which means you can't include multiple statements or complex logic within them. Regular functions can contain multiple statements and have more flexibility.\n",
    "\n",
    "2. **No Documentation Strings**: Lambda functions cannot have docstrings, which are typically used to provide documentation for functions. Regular functions can include docstrings to explain their purpose and usage.\n",
    "\n",
    "3. **Limited Reusability**: Lambda functions are less reusable than regular functions because they lack a name and can only be used in the context where they are defined.\n",
    "\n",
    "4. **Readability Concerns**: While lambda functions can improve code readability in some cases, they can also hinder it when used for complex operations. Using a named function with a clear name and a docstring is often more readable.\n",
    "\n",
    "5. **Scope Clarity**: If a lambda function captures variables from an enclosing scope, it can sometimes make the code less clear, as it's not immediately obvious where those variables come from.\n",
    "\n",
    "Lambda functions are useful for simple, short, and one-off operations, especially in functional programming contexts. Regular functions are more versatile, offer better code organization and reusability, and are a better choice when you need to define complex logic or include documentation. The choice between lambda functions and regular functions depends on the specific use case and the trade-offs between conciseness and clarity."
   ]
  },
  {
   "cell_type": "markdown",
   "id": "4f7cb1c0",
   "metadata": {},
   "source": [
    "5. Are lambda functions in Python able to access variables defined outside of their own scope? Explain with an example.\n",
    "\n",
    "Answer: Yes, lambda functions in Python are able to access variables defined outside of their own scope. They have access to the variables in the enclosing scope, just like regular functions. This is known as \"lexical scoping\" or \"closure.\""
   ]
  },
  {
   "cell_type": "code",
   "execution_count": 8,
   "id": "2af3059d",
   "metadata": {},
   "outputs": [
    {
     "name": "stdout",
     "output_type": "stream",
     "text": [
      "18\n"
     ]
    }
   ],
   "source": [
    "def outer_function(x):\n",
    "    # Define a variable 'y' within the outer function's scope\n",
    "    y = 10\n",
    "    \n",
    "    # Define and return a lambda function that uses 'x' and 'y'\n",
    "    return lambda z: x + y + z\n",
    "\n",
    "# Create a lambda function 'inner' using 'outer_function'\n",
    "inner = outer_function(5)\n",
    "\n",
    "# Use 'inner' with an argument '3'\n",
    "result = inner(3)\n",
    "\n",
    "print(result)  # Output: 18 (5 + 10 + 3)"
   ]
  },
  {
   "cell_type": "markdown",
   "id": "500b85ff",
   "metadata": {},
   "source": [
    "In this example:\n",
    "\n",
    "1. We define an `outer_function` that takes one argument `x` and defines a variable `y` within its scope.\n",
    "\n",
    "2. `outer_function` returns a lambda function that takes one argument `z` and uses both `x` (from its enclosing scope) and `y` (also from its enclosing scope) to calculate the result.\n",
    "\n",
    "3. We create a lambda function `inner` by calling `outer_function` with an argument of `5`.\n",
    "\n",
    "4. We then call the `inner` lambda function with an argument of `3`, and it correctly accesses and uses both `x` (which is `5`) and `y` (which is `10`) from the enclosing scope to calculate the result.\n",
    "\n",
    "So, lambda functions in Python can capture and use variables from their containing (enclosing) scope, which makes them quite versatile for various use cases."
   ]
  },
  {
   "cell_type": "markdown",
   "id": "04d94d7f",
   "metadata": {},
   "source": [
    "6. Write a lambda function to calculate the square of a given number.\n",
    "\n",
    "Answer: The code for the lambda function to calculate the square of the given number is given in the next block.\n",
    "\n",
    "Here, square_num is the variable that takes the value, x is the argument."
   ]
  },
  {
   "cell_type": "code",
   "execution_count": 10,
   "id": "48fb157d",
   "metadata": {},
   "outputs": [
    {
     "data": {
      "text/plain": [
       "25"
      ]
     },
     "execution_count": 10,
     "metadata": {},
     "output_type": "execute_result"
    }
   ],
   "source": [
    "square_num=lambda x:x**2\n",
    "square_num(5)"
   ]
  },
  {
   "cell_type": "markdown",
   "id": "11fc6050",
   "metadata": {},
   "source": [
    "7. Create a lambda function to find the maximum value in a list of integers.\n",
    "\n",
    "Answer: Lambda function to create the maximum value in a list of integers can be done using max() function."
   ]
  },
  {
   "cell_type": "code",
   "execution_count": 11,
   "id": "9ef30582",
   "metadata": {},
   "outputs": [
    {
     "name": "stdout",
     "output_type": "stream",
     "text": [
      "67\n"
     ]
    }
   ],
   "source": [
    "# Sample list of integers\n",
    "numbers = [12, 45, 67, 23, 9, 56, 32]\n",
    "\n",
    "# Lambda function to find the maximum value\n",
    "find_max = lambda x: max(x)\n",
    "\n",
    "# Use the lambda function to find the maximum value in 'numbers'\n",
    "maximum_value = find_max(numbers)\n",
    "\n",
    "print(maximum_value)  # Output: 67"
   ]
  },
  {
   "cell_type": "markdown",
   "id": "c6b6d4c5",
   "metadata": {},
   "source": [
    "8. Implement a lambda function to filter out all the even numbers from a list of integers.\n",
    "\n",
    "Answer: Lambda function to filter out all the even numbers from a list of integers can be done using the filter() function."
   ]
  },
  {
   "cell_type": "code",
   "execution_count": 12,
   "id": "20716128",
   "metadata": {},
   "outputs": [
    {
     "name": "stdout",
     "output_type": "stream",
     "text": [
      "[12, 56, 32]\n"
     ]
    }
   ],
   "source": [
    "# Sample list of integers\n",
    "numbers = [12, 45, 67, 23, 9, 56, 32]\n",
    "\n",
    "# Lambda function to filter out even numbers\n",
    "filter_even = lambda x: x % 2 == 0\n",
    "\n",
    "# Use the lambda function with the 'filter' function to filter even numbers\n",
    "even_numbers = list(filter(filter_even, numbers))\n",
    "\n",
    "print(even_numbers)  # Output: [12, 56, 32]"
   ]
  },
  {
   "cell_type": "markdown",
   "id": "1dbfb8cd",
   "metadata": {},
   "source": [
    "9. Write a lambda function to sort a list of strings in ascending order based on the length of each string.\n",
    "\n",
    "Answer: Lambda function to sort a list of strings in ascending order based on the length of each string can be done by using the sort() function."
   ]
  },
  {
   "cell_type": "code",
   "execution_count": 13,
   "id": "16795313",
   "metadata": {},
   "outputs": [
    {
     "name": "stdout",
     "output_type": "stream",
     "text": [
      "['date', 'apple', 'banana', 'cherry']\n"
     ]
    }
   ],
   "source": [
    "# Sample list of strings\n",
    "words = [\"apple\", \"banana\", \"cherry\", \"date\"]\n",
    "\n",
    "# Lambda function to sort strings by length\n",
    "sort_by_length = lambda x: len(x)\n",
    "\n",
    "# Use the lambda function with the 'sorted' function to sort by length\n",
    "sorted_words = sorted(words, key=sort_by_length)\n",
    "\n",
    "print(sorted_words)\n",
    "# Output: ['date', 'apple', 'cherry', 'banana']"
   ]
  },
  {
   "cell_type": "markdown",
   "id": "9aa353be",
   "metadata": {},
   "source": [
    "10. Create a lambda function that takes two lists as input and returns a new list containing the common elements between the two lists.\n",
    "\n",
    "Answer: You can create a lambda function to find the common elements between two lists by using the `filter` function with a lambda function as the filtering criterion. "
   ]
  },
  {
   "cell_type": "code",
   "execution_count": 14,
   "id": "8655edf8",
   "metadata": {},
   "outputs": [
    {
     "name": "stdout",
     "output_type": "stream",
     "text": [
      "[3, 4, 5]\n"
     ]
    }
   ],
   "source": [
    "# Sample lists\n",
    "list1 = [1, 2, 3, 4, 5]\n",
    "list2 = [3, 4, 5, 6, 7]\n",
    "\n",
    "# Lambda function to find common elements\n",
    "find_common = lambda x, y: list(filter(lambda item: item in x, y))\n",
    "\n",
    "# Use the lambda function to find common elements between 'list1' and 'list2'\n",
    "common_elements = find_common(list1, list2)\n",
    "\n",
    "print(common_elements)  # Output: [3, 4, 5]"
   ]
  },
  {
   "cell_type": "markdown",
   "id": "dc9e7938",
   "metadata": {},
   "source": [
    "11. Write a recursive function to calculate the factorial of a given positive integer.\n",
    "\n",
    "Answer: Recursive function to calculate the factorial of a given positive integer is given in the next block."
   ]
  },
  {
   "cell_type": "code",
   "execution_count": 19,
   "id": "8f754427",
   "metadata": {},
   "outputs": [
    {
     "name": "stdout",
     "output_type": "stream",
     "text": [
      "120\n"
     ]
    }
   ],
   "source": [
    "def factorial(n):\n",
    "    # Base case: factorial of 0 or 1 is 1\n",
    "    if n == 0 or n == 1:\n",
    "        return 1\n",
    "    # Recursive case: factorial of n is n times factorial of (n-1)\n",
    "    else:\n",
    "        return n * factorial(n - 1)\n",
    "\n",
    "\n",
    "result = factorial(5)\n",
    "print(result)  # Output: 120 (5! = 5 * 4 * 3 * 2 * 1 = 120)"
   ]
  },
  {
   "cell_type": "markdown",
   "id": "dd6db4c4",
   "metadata": {},
   "source": [
    "12. Implement a recursive function to compute the nth Fibonacci number.\n",
    "\n",
    "Answer: Recursive function to compute the nth Fibonacci number is given in the next block."
   ]
  },
  {
   "cell_type": "code",
   "execution_count": 20,
   "id": "fbadf5a7",
   "metadata": {},
   "outputs": [
    {
     "name": "stdout",
     "output_type": "stream",
     "text": [
      "13\n"
     ]
    }
   ],
   "source": [
    "def fibonacci(n):\n",
    "    # Base case: The Fibonacci of 0 is 0, and the Fibonacci of 1 is 1\n",
    "    if n == 0:\n",
    "        return 0\n",
    "    elif n == 1:\n",
    "        return 1\n",
    "    # Recursive case: Fibonacci of n is the sum of Fibonacci(n-1) and Fibonacci(n-2)\n",
    "    else:\n",
    "        return fibonacci(n - 1) + fibonacci(n - 2)\n",
    "\n",
    "    \n",
    "result = fibonacci(7)\n",
    "print(result)  # Output: 13 (0, 1, 1, 2, 3, 5, 8, 13)"
   ]
  },
  {
   "cell_type": "markdown",
   "id": "aa0aee0c",
   "metadata": {},
   "source": [
    "13. Create a recursive function to find the sum of all the elements in a given list.\n",
    "\n",
    "Answer: Recursive function to find the sum of all the elements in a given list is given in the next block."
   ]
  },
  {
   "cell_type": "code",
   "execution_count": 21,
   "id": "bddaad6d",
   "metadata": {},
   "outputs": [
    {
     "name": "stdout",
     "output_type": "stream",
     "text": [
      "15\n"
     ]
    }
   ],
   "source": [
    "def recursive_sum(lst):\n",
    "    # Base case: If the list is empty, the sum is 0.\n",
    "    if not lst:\n",
    "        return 0\n",
    "    # Recursive case: The sum is the first element plus the sum of the rest of the list.\n",
    "    else:\n",
    "        return lst[0] + recursive_sum(lst[1:])\n",
    "\n",
    "my_list = [1, 2, 3, 4, 5]\n",
    "result = recursive_sum(my_list)\n",
    "print(result)  # Output: 15 (1 + 2 + 3 + 4 + 5)"
   ]
  },
  {
   "cell_type": "markdown",
   "id": "39798ef7",
   "metadata": {},
   "source": [
    "14. Write a recursive function to determine whether a given string is a palindrome.\n",
    "\n",
    "Answer: Recursive function to determine whether a given string is a palindrome is given in the next block."
   ]
  },
  {
   "cell_type": "code",
   "execution_count": 22,
   "id": "328ce80c",
   "metadata": {},
   "outputs": [
    {
     "name": "stdout",
     "output_type": "stream",
     "text": [
      "True\n",
      "False\n",
      "True\n"
     ]
    }
   ],
   "source": [
    "def is_palindrome(s):\n",
    "    # Base case: An empty string or a string with one character is a palindrome.\n",
    "    if len(s) <= 1:\n",
    "        return True\n",
    "    # Recursive case: Check if the first and last characters are the same, and check the rest.\n",
    "    else:\n",
    "        first_char = s[0]\n",
    "        last_char = s[-1]\n",
    "        if first_char != last_char:\n",
    "            return False\n",
    "        else:\n",
    "            # Recursively check the substring without the first and last characters.\n",
    "            return is_palindrome(s[1:-1])\n",
    "\n",
    "print(is_palindrome(\"racecar\"))  # Output: True\n",
    "print(is_palindrome(\"hello\"))    # Output: False\n",
    "print(is_palindrome(\"level\"))    # Output: True"
   ]
  },
  {
   "cell_type": "markdown",
   "id": "33a80902",
   "metadata": {},
   "source": [
    "15. Implement a recursive function to find the greatest common divisor (GCD) of two positive integers.\n",
    "\n",
    "Answer: Recursive function to find the greatest common divisor of two positive integers is given in the next block."
   ]
  },
  {
   "cell_type": "code",
   "execution_count": 23,
   "id": "bacf4101",
   "metadata": {},
   "outputs": [
    {
     "name": "stdout",
     "output_type": "stream",
     "text": [
      "6\n"
     ]
    }
   ],
   "source": [
    "def gcd(a, b):\n",
    "    # Base case: GCD of a number and 0 is the number itself.\n",
    "    if b == 0:\n",
    "        return a\n",
    "    # Recursive case: Use the Euclidean algorithm to calculate the GCD.\n",
    "    else:\n",
    "        return gcd(b, a % b)\n",
    "\n",
    "result = gcd(48, 18)\n",
    "print(result)  # Output: 6"
   ]
  }
 ],
 "metadata": {
  "kernelspec": {
   "display_name": "Python 3 (ipykernel)",
   "language": "python",
   "name": "python3"
  },
  "language_info": {
   "codemirror_mode": {
    "name": "ipython",
    "version": 3
   },
   "file_extension": ".py",
   "mimetype": "text/x-python",
   "name": "python",
   "nbconvert_exporter": "python",
   "pygments_lexer": "ipython3",
   "version": "3.11.3"
  }
 },
 "nbformat": 4,
 "nbformat_minor": 5
}
