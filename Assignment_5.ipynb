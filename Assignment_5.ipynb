{
 "cells": [
  {
   "cell_type": "markdown",
   "id": "2b357e4f",
   "metadata": {},
   "source": [
    "1. What does an empty dictionary's code look like?\n",
    "\n",
    "Answer: An empty dictionary in python is an empty pair of curly braces which looks like { }. This is called an empty dictionary with no key:value pairs. \n",
    "\n",
    "Dictionary is a built-in data type that represents an unordered collection of key-value pairs. Each key in a dictionary is unique and maps to a specific value. Dictionaries are widely used because they allow you to efficiently store and retrieve data using a meaningful and unique identifier (the key)."
   ]
  },
  {
   "cell_type": "code",
   "execution_count": 5,
   "id": "f6c242a8",
   "metadata": {},
   "outputs": [
    {
     "name": "stdout",
     "output_type": "stream",
     "text": [
      "{'name': 'nancy jain', 'age': 22, 'designation': 'student'}\n",
      "{}\n"
     ]
    }
   ],
   "source": [
    "#Example of a dictionary\n",
    "my_dict={\"name\":\"nancy jain\",\"age\":22,\"designation\":\"student\"}\n",
    "print(my_dict)\n",
    "\n",
    "#Empty dictionary\n",
    "dict1={}\n",
    "print(dict1)"
   ]
  },
  {
   "cell_type": "markdown",
   "id": "11e4ec5e",
   "metadata": {},
   "source": [
    "2. What is the value of a dictionary value with the key 'foo' and the value 42?\n",
    "\n",
    "Answer: The dictionary with the key 'foo' and the value 42 looks like: \n",
    "\n",
    "dict={\"foo\":42}\n",
    "\n",
    "Here, \"foo\" is the key and 42 is its value. \n",
    "\n",
    "The value of a dictionary with the key 'foo' and the value 42 can be accessed using the key 'foo'. \n",
    "\n",
    "In this example, we create a dictionary called `my_dict` with the key 'foo' and the value 42. We then access the value associated with the key 'foo' using `my_dict['foo']`, which returns the value 42."
   ]
  },
  {
   "cell_type": "code",
   "execution_count": 2,
   "id": "fe141717",
   "metadata": {},
   "outputs": [
    {
     "name": "stdout",
     "output_type": "stream",
     "text": [
      "42\n"
     ]
    }
   ],
   "source": [
    "# Creating a dictionary with the key 'foo' and the value 42\n",
    "my_dict = {'foo': 42}\n",
    "\n",
    "# Accessing the value using the key 'foo'\n",
    "value = my_dict['foo']\n",
    "\n",
    "print(value)  # Output: 42"
   ]
  },
  {
   "cell_type": "markdown",
   "id": "0947e959",
   "metadata": {},
   "source": [
    "3. What is the most significant distinction between a dictionary and a list?\n",
    "\n",
    "Answer: Both dictionary and a list are in-built data types in python. However, they are significantly different from each other.\n",
    "\n",
    "List is a data type which encloses the items in square brackets where each items are separated by commas. Lists are ordered collections of items that are accessed by their index, which is an integer starting from 0. Lists are best used when you have a collection of items that you want to access in a specific order, and you retrieve items by their position in the list.\n",
    "\n",
    "Example: \n",
    "my_list=[1,2,3,4,5,6]\n",
    "\n",
    "Lists allow duplicate values.\n",
    "\n",
    "Dictionary is a built-in data type that represents the unordered collection of key:value pairs. Instead of using indices, you access data in dictionaries by specifying a unique key. Dictionaries are best used when you want to associate meaningful keys with their corresponding values. This allows for efficient retrieval of values based on their keys.\n",
    "\n",
    "Key:value pairs in dictionaries is enclosed in curly braces where each pair is separated by commas.\n",
    "\n",
    "Example: \n",
    "my_dict={\"name\":\"nancy\",\"age\":22}\n",
    "\n",
    "Dictionaries must have unique key. If a key is repeated, python will read the last key and print it only."
   ]
  },
  {
   "cell_type": "markdown",
   "id": "d4b37706",
   "metadata": {},
   "source": [
    "4. What happens if you try to access spam['foo'] if spam is {'bar': 100}?\n",
    "\n",
    "Answer: If you try to access spam['foo'] and spam is defined as {'bar': 100}, you will encounter a KeyError in Python. This error occurs because the key 'foo' does not exist in the dictionary spam, and attempting to access a non-existent key using square brackets results in a KeyError.\n",
    "\n",
    "We can avoid such type of situations by using Exceptions. Exceptions are used to handle errors. KeyError can be handled by using exception."
   ]
  },
  {
   "cell_type": "code",
   "execution_count": 3,
   "id": "c92b6be5",
   "metadata": {},
   "outputs": [
    {
     "ename": "KeyError",
     "evalue": "'foo'",
     "output_type": "error",
     "traceback": [
      "\u001b[1;31m---------------------------------------------------------------------------\u001b[0m",
      "\u001b[1;31mKeyError\u001b[0m                                  Traceback (most recent call last)",
      "Cell \u001b[1;32mIn[3], line 2\u001b[0m\n\u001b[0;32m      1\u001b[0m spam\u001b[38;5;241m=\u001b[39m{\u001b[38;5;124m'\u001b[39m\u001b[38;5;124mbar\u001b[39m\u001b[38;5;124m'\u001b[39m:\u001b[38;5;241m100\u001b[39m}\n\u001b[1;32m----> 2\u001b[0m spam[\u001b[38;5;124m'\u001b[39m\u001b[38;5;124mfoo\u001b[39m\u001b[38;5;124m'\u001b[39m]\n",
      "\u001b[1;31mKeyError\u001b[0m: 'foo'"
     ]
    }
   ],
   "source": [
    "spam={'bar':100}\n",
    "spam['foo']"
   ]
  },
  {
   "cell_type": "code",
   "execution_count": 8,
   "id": "479c69a6",
   "metadata": {},
   "outputs": [
    {
     "name": "stdout",
     "output_type": "stream",
     "text": [
      "The key is not present in the dictionary.\n",
      "Please enter the correct key.\n"
     ]
    }
   ],
   "source": [
    "#Handling the KeyError\n",
    "spam={'bar':100}\n",
    "try:\n",
    "    spam['foo']\n",
    "except KeyError:\n",
    "    print(\"The key is not present in the dictionary.\")\n",
    "finally: \n",
    "    print(\"Please enter the correct key.\")"
   ]
  },
  {
   "cell_type": "markdown",
   "id": "5c880808",
   "metadata": {},
   "source": [
    "5. If a dictionary is stored in spam, what is the difference between the expressions 'cat' in spam and 'cat' in spam.keys()?\n",
    "\n",
    "Answer: In Python, when you use the expressions 'cat' in spam and 'cat' in spam.keys(), you are checking for the existence of a key 'cat' within the dictionary spam. \n",
    "\n",
    "1. 'cat' in spam:\n",
    "   - This expression checks if the key 'cat' exists directly within the dictionary spam.\n",
    "   - If 'cat' is a key in the dictionary, it will return `True`.\n",
    "   - If 'cat' is not a key in the dictionary, it will return `False`.\n",
    "\n",
    "\n",
    "2. 'cat' in spam.keys():\n",
    "   - This expression first retrieves all the keys from the dictionary spam using the keys() method and then checks if 'cat' exists among those keys.\n",
    "   - If 'cat' is a key in the dictionary, it will return `True`.\n",
    "   - If 'cat' is not a key in the dictionary, it will return `False`."
   ]
  },
  {
   "cell_type": "code",
   "execution_count": 13,
   "id": "3074a14c",
   "metadata": {},
   "outputs": [
    {
     "name": "stdout",
     "output_type": "stream",
     "text": [
      "True\n",
      "True\n"
     ]
    }
   ],
   "source": [
    "spam = {'cat': 1, 'dog': 2, 'fish': 3}\n",
    "\n",
    "# Using 'in' to check if a key exists directly within the dictionary\n",
    "result1 = 'cat' in spam  # True\n",
    "\n",
    "# Using 'in' with spam.keys() to check if a key exists\n",
    "result2 = 'cat' in spam.keys()  # True\n",
    "\n",
    "print(result1)\n",
    "print(result2)\n",
    "\n",
    "#Both `result1` and `result2` are `True` because the key 'cat' exists in the dictionary `spam`"
   ]
  },
  {
   "cell_type": "markdown",
   "id": "bdb3b3a6",
   "metadata": {},
   "source": [
    "6. If a dictionary is stored in spam, what is the difference between the expressions 'cat' in spam and 'cat' in spam.values()?\n",
    "\n",
    "Answer: In Python, the expressions 'cat' in spam and 'cat' in spam.values() are used to check for the existence of a value 'cat' within the dictionary spam. \n",
    "\n",
    "1. 'cat' in spam:\n",
    "   - This expression checks if the value 'cat' exists as a key in the dictionary spam.\n",
    "   - It does not check the values of the dictionary; instead, it checks for the presence of the key 'cat'.\n",
    "   - If 'cat' is a key in the dictionary, it will return `True`.\n",
    "   - If 'cat' is not a key in the dictionary, it will return `False`.\n",
    "\n",
    "2. 'cat' in spam.values():\n",
    "   - This expression checks if the value 'cat' exists within the values of the dictionary spam.\n",
    "   - It iterates through all the values in the dictionary and checks if any of them are equal to 'cat'.\n",
    "   - If 'cat' is found as a value in any key-value pair, it will return `True`.\n",
    "   - If 'cat' is not found as a value in any key-value pair, it will return `False`."
   ]
  },
  {
   "cell_type": "code",
   "execution_count": 14,
   "id": "7fcdfe9b",
   "metadata": {},
   "outputs": [
    {
     "name": "stdout",
     "output_type": "stream",
     "text": [
      "False\n",
      "True\n"
     ]
    }
   ],
   "source": [
    "spam = {'name': 'cat', 'species': 'mammal', 'age': \"1 year\"}\n",
    "\n",
    "# Using 'in' to check if 'cat' exists as a key in the dictionary\n",
    "result1 = 'cat' in spam  # False (because 'cat' is not a key)\n",
    "\n",
    "# Using 'in' with spam.values() to check if 'cat' exists as a value\n",
    "result2 = 'cat' in spam.values()  # True (because 'cat' is a value)\n",
    "\n",
    "print(result1)\n",
    "print(result2)\n",
    "\n",
    "#In this example, result1 is `False` because 'cat' is not a key in the dictionary spam. \n",
    "#result2 is `True` because 'cat' is a value within the dictionary's values."
   ]
  },
  {
   "cell_type": "markdown",
   "id": "3d78eae5",
   "metadata": {},
   "source": [
    "7. What is a shortcut for the following code?\n",
    "\n",
    "if 'color' not in spam:\n",
    "\n",
    "spam['color'] = 'black'\n",
    "\n",
    "Answer: The following code checks if the key called 'color' is present in the dictionary 'spam'. If 'color' key is not present in the dictionary spam, then it will add the key with the value 'black'.\n",
    "\n",
    "We can use the `setdefault()` method to achieve the same result more concisely. The `setdefault()` method checks if a key exists in a dictionary, and if it does not exist, it sets a default value for that key. \n",
    "\n",
    "We can use it:\n",
    "\n",
    "spam.setdefault('color', 'black')"
   ]
  },
  {
   "cell_type": "code",
   "execution_count": 21,
   "id": "00996c04",
   "metadata": {},
   "outputs": [
    {
     "name": "stdout",
     "output_type": "stream",
     "text": [
      "{'shape': 'rectangle', 'length': '5cm', 'width': '3cm'}\n",
      "{'shape': 'rectangle', 'length': '5cm', 'width': '3cm', 'color': 'black'}\n"
     ]
    }
   ],
   "source": [
    "spam={'shape':'rectangle','length':'5cm','width':'3cm'}\n",
    "print(spam)\n",
    "spam.setdefault('color', 'black')\n",
    "print(spam)\n",
    "\n",
    "#This code checks if 'color' exists as a key in the `spam` dictionary. If it does, it does nothing. \n",
    "#If 'color' does not exist, it sets the key 'color' with the value 'black'."
   ]
  },
  {
   "cell_type": "markdown",
   "id": "d482cd4f",
   "metadata": {},
   "source": [
    "8. How do you \"pretty print\" dictionary values using which module and function?"
   ]
  },
  {
   "cell_type": "markdown",
   "id": "c1b37e4c",
   "metadata": {},
   "source": [
    "Answer: To \"pretty print\" dictionary values in Python, you can use the `pprint` module (pretty-print module) and its `pprint()` function. The `pprint()` function is part of the `pprint` module, and it allows you to print data structures like dictionaries and lists in a more human-readable and nicely formatted way."
   ]
  },
  {
   "cell_type": "code",
   "execution_count": 22,
   "id": "7de8a1a3",
   "metadata": {},
   "outputs": [
    {
     "name": "stdout",
     "output_type": "stream",
     "text": [
      "{'age': 30,\n",
      " 'city': 'New York',\n",
      " 'contact': {'email': 'john@example.com', 'phone': '123-456-7890'},\n",
      " 'interests': ['programming', 'reading', 'traveling'],\n",
      " 'name': 'John Doe'}\n"
     ]
    }
   ],
   "source": [
    "import pprint\n",
    "\n",
    "# Create a sample dictionary\n",
    "data = {\n",
    "    'name': 'John Doe',\n",
    "    'age': 30,\n",
    "    'city': 'New York',\n",
    "    'interests': ['programming', 'reading', 'traveling'],\n",
    "    'contact': {\n",
    "        'email': 'john@example.com',\n",
    "        'phone': '123-456-7890'\n",
    "    }\n",
    "}\n",
    "\n",
    "# Pretty print the dictionary\n",
    "pprint.pprint(data)"
   ]
  },
  {
   "cell_type": "markdown",
   "id": "35a45d78",
   "metadata": {},
   "source": [
    "When you run this code, the `pprint.pprint(data)` function will format and print the dictionary `data` in a more visually organized and readable manner, making it easier to understand complex nested data structures. The `pprint` module also takes care of line breaks and indentation for nested dictionaries and lists."
   ]
  }
 ],
 "metadata": {
  "kernelspec": {
   "display_name": "Python 3 (ipykernel)",
   "language": "python",
   "name": "python3"
  },
  "language_info": {
   "codemirror_mode": {
    "name": "ipython",
    "version": 3
   },
   "file_extension": ".py",
   "mimetype": "text/x-python",
   "name": "python",
   "nbconvert_exporter": "python",
   "pygments_lexer": "ipython3",
   "version": "3.11.3"
  }
 },
 "nbformat": 4,
 "nbformat_minor": 5
}
