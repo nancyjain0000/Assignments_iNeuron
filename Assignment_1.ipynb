{
 "cells": [
  {
   "cell_type": "markdown",
   "id": "23486baa-b5dc-4b7b-90e4-366eb0eb742d",
   "metadata": {},
   "source": [
    "1. In the below elements which of them are values or an expression? eg:- values can be integer or string and expressions will be mathematical operators.\n",
    "*\n",
    "'hello'\n",
    "-87.8\n",
    "-\n",
    "/\n",
    "+\n",
    "6\n",
    "\n",
    "Answer: *, -, /, + are the expressions and 'hello', -87.8 and 6 are the values"
   ]
  },
  {
   "cell_type": "markdown",
   "id": "c44de370-1881-4e52-bbe7-debcecdc887e",
   "metadata": {},
   "source": [
    "2. What is the difference between string and variable?\n",
    "\n",
    "Answer: Variables are the named location used to store data whereas strings are the character values that are stored in variable name. Variable names are case sensitive in nature. Variable name can start with a-z, A-Z or _ but not digits, whereas there is no such boundation to the strings.\n",
    "Example: name=\"Nancy Jain\"\n",
    "Here \"name\" is a variable that stores the character data \"Nancy Jain\" that is a string."
   ]
  },
  {
   "cell_type": "markdown",
   "id": "9c0b9be5-09ff-489a-a87d-d7ffad32ddf1",
   "metadata": {},
   "source": [
    "3. Describe three different data types.\n",
    "\n",
    "Answer: Three different types of data types are: int, float and char. \n",
    "int stands for the integer data. Example: 3, 5, -2\n",
    "float stands for floating point data. Example: 9.4, 2.3, 0.123\n",
    "char stands for character data. Example: \"This is my first assignment\", \"Nancy Jain\""
   ]
  },
  {
   "cell_type": "markdown",
   "id": "baf1438e-dd75-4208-8d44-ae9d7537d4b4",
   "metadata": {},
   "source": [
    "4. What is an expression made up of? What do all expressions do?\n",
    "\n",
    "Answer: Expression is made up of operators and operands. Operators are mathematical operation that needs to be done on two or more operands.\n",
    "Example: 4+5\n",
    "Here 4 and 5 are the operands and '+' is the mathematical operation that needs to be applied on to find the sum of two numbers, 4 and 5.\n",
    "Expressions solve the mathematical calculation in all programs."
   ]
  },
  {
   "cell_type": "markdown",
   "id": "f27bd72a-dd6c-4c4f-8f61-4394217d2862",
   "metadata": {},
   "source": [
    "5. This assignment statements, like spam = 10. What is the difference between an expression and a statement?\n",
    "\n",
    "Answer: Assignment statement like spam=10 assigns the value 10 to the variable name \"spam\". In future if we want to use this value, we can simply write spam. \n",
    "An expression is the mathematical operators that performs some specific calculations. Example: 2+4-29/2 will perform the expression according to the order of the precedence of the mathematical operators."
   ]
  },
  {
   "cell_type": "markdown",
   "id": "36d238b9-96b2-48d6-bae8-bf22663e8653",
   "metadata": {},
   "source": [
    "6. After running the following code, what does the variable bacon contain?\n",
    "bacon = 22\n",
    "bacon + 1\n",
    "\n",
    "Answer: bacon contains 22 only because we are only increasing the value of bacon by 1 not updating it to the old value."
   ]
  },
  {
   "cell_type": "markdown",
   "id": "b1c34036-0c13-446d-ad32-04ebfe97bbc5",
   "metadata": {},
   "source": [
    "7. What should the values of the following two terms be?\n",
    "'spam'+'spamspam'\n",
    "'spam'*3\n",
    "\n",
    "Answer: 'spam'+'spamspam' will result spamspamspam and 'spam'*3 will also result the same, spamspamspam"
   ]
  },
  {
   "cell_type": "markdown",
   "id": "cb50879c-d38e-4811-aa14-f82209b143f1",
   "metadata": {},
   "source": [
    "8. Why is eggs a valid variable name while 100 is invalid?\n",
    "\n",
    "Answer: eggs is a valid variable name because the variable name can start with a-z, A-Z or _ (underscore) but it cannot start with 0-9 (digits). 100 is invalid because it starts with digits."
   ]
  },
  {
   "cell_type": "markdown",
   "id": "77f4ab43-f05c-40e6-9d09-3fa8fbe9f8b8",
   "metadata": {},
   "source": [
    "9. What three functions can be used to get the integer, floating-point number, or string version of a value?\n",
    "\n",
    "Answer: To get the integer version of a value, we can write\n",
    "a= int(input(\"Enter your age:\")) This will take the value of age as integer and stores in the variable \"a\".\n",
    "\n",
    "To get the floating-point version of a value, we can write\n",
    "b= float(input(\"Enter your marks:\")) This will take the value of marks as floating point and stores in the variable \"b\".\n",
    "\n",
    "To get the string version of the value, we simply write\n",
    "student_name= input(\"Enter your name:\") This will take the value of the name as string and stores in the variable \"student_name\"."
   ]
  },
  {
   "cell_type": "markdown",
   "id": "29331d24-0725-4b35-b497-75f8588edfc5",
   "metadata": {},
   "source": [
    "10. Why does this expression cause an error? How can you fix it?\n",
    "'I have eaten' + 99 + 'burritos.'\n",
    "\n",
    "Answer: The given expression causes error because we are trying to concatenate integer with strings. Here 99 is the integer value and 'I have eaten' and 'burritos' are the string values.\n",
    "To fix this mistake, we first need to convert integer value to the string by writing it like:\n",
    "'I have eaten' + ' 99 ' + 'burritos.'"
   ]
  },
  {
   "cell_type": "code",
   "execution_count": null,
   "id": "b4c9514d-6630-4f93-b230-bfdadc345d3c",
   "metadata": {},
   "outputs": [],
   "source": []
  }
 ],
 "metadata": {
  "kernelspec": {
   "display_name": "Python 3 (ipykernel)",
   "language": "python",
   "name": "python3"
  },
  "language_info": {
   "codemirror_mode": {
    "name": "ipython",
    "version": 3
   },
   "file_extension": ".py",
   "mimetype": "text/x-python",
   "name": "python",
   "nbconvert_exporter": "python",
   "pygments_lexer": "ipython3",
   "version": "3.10.6"
  }
 },
 "nbformat": 4,
 "nbformat_minor": 5
}
