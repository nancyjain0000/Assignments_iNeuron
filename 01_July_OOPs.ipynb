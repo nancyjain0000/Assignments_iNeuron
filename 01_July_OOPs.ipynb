{
 "cells": [
  {
   "cell_type": "markdown",
   "id": "d210ac18",
   "metadata": {},
   "source": [
    "1. What is the primary goal of Object-Oriented Programming (OOP)?\n",
    "\n",
    "Answer: The primary goal of Object-Oriented Programming (OOP) is to model real-world entities and their interactions in a software system. \n",
    "\n",
    "It aims to organize code into reusable and modular structures called classes and objects, promoting concepts like encapsulation, inheritance, and polymorphism to make it easier to design, understand, and maintain complex software systems.\n",
    "\n",
    "2. What is an object in Python?\n",
    "\n",
    "Answer: In Python, an object is a fundamental concept representing a real-world entity or data structure. Objects are instances of classes and can store both data (attributes) and functions (methods) that operate on that data. \n",
    "\n",
    "Everything in Python, including integers, lists, and custom-defined classes, is an object.\n",
    "\n",
    "3. What is a class in Python?\n",
    "\n",
    "Answer: A class in Python is a blueprint or template for creating objects. It defines the structure and behavior of objects. A class can have attributes (variables) to store data and methods (functions) to perform actions related to those attributes. \n",
    "\n",
    "Classes are defined using the `class` keyword.\n",
    "\n",
    "4. What are attributes and methods in a class?\n",
    "\n",
    "Answer: Attributes in a class are variables that store data related to the class or its instances. They are characteristics or properties of objects created from the class. \n",
    "\n",
    "Methods are functions defined within a class that can perform actions or operations on the class's attributes or on the instance itself.\n",
    "\n",
    "5. What is the difference between class variables and instance variables in Python?\n",
    "\n",
    "Answer: The difference between class variables and instance variables in Python lies in their scope and usage:\n",
    "\n",
    "   - Class variables: These variables are shared among all instances of a class. They are defined at the class level and are the same for every object created from that class. Class variables are useful for storing data that is common to all instances. You define them within the class, outside of any instance methods.\n",
    "\n",
    "   - Instance variables: These variables are unique to each instance of a class. They are defined within the class's methods, typically within the `__init__` method, using the `self` keyword. Instance variables hold data specific to an individual object.\n",
    "   \n",
    "   This 'self' keyword can be any other name, but we prefer a standard one.\n",
    "\n",
    "\n",
    "6. What is the purpose of the self parameter in Python class methods?\n",
    "\n",
    "\n",
    "Answer: The `self` parameter in Python class methods refers to the instance of the class itself. It is the conventional name used for this parameter, but you could technically use any name you like, although using `self` is a widely followed convention.\n",
    "\n",
    "   When you call a method on an instance of a class, Python automatically passes the instance itself as the first argument to the method. This allows you to access and manipulate the instance's attributes and perform actions that are specific to that instance. In other words, `self` is a reference to the object on which the method is called, allowing you to work with the object's data and behavior within the method."
   ]
  },
  {
   "cell_type": "markdown",
   "id": "786efde3",
   "metadata": {},
   "source": [
    "7. For a library management system, you have to design the \"Book\" class with OOP principles in mind. The “Book” class will have following attributes:\n",
    "\n",
    "a. title: Represents the title of the book.\n",
    "\n",
    "b. author: Represents the author(s) of the book.\n",
    "\n",
    "c. isbn: Represents the ISBN (International Standard Book Number) of the book.\n",
    "\n",
    "d. publication_year: Represents the year of publication of the book.\n",
    "\n",
    "e. available_copies: Represents the number of copies available for checkout.\n",
    "\n",
    "\n",
    "The class will also include the following methods:\n",
    "\n",
    "a. check_out(self): Decrements the available copies by one if there are copies available for checkout.\n",
    "\n",
    "b. return_book(self): Increments the available copies by one when a book is returned.\n",
    "\n",
    "c. display_book_info(self): Displays the information about the book, including its\n",
    "attributes and the number of available copies."
   ]
  },
  {
   "cell_type": "code",
   "execution_count": 14,
   "id": "53d52c56",
   "metadata": {},
   "outputs": [],
   "source": [
    "#Library management system\n",
    "class Book:\n",
    "    def __init__(self, title, author, isbn, publication_year, available_copies):     #creating attributes for class Book\n",
    "        self.title=title\n",
    "        self.author=author\n",
    "        self.isbn=isbn\n",
    "        self.publication_year=publication_year\n",
    "        self.available_copies=available_copies\n",
    "        \n",
    "    def check_out(self,copy_taken):     #method to display the check out of books\n",
    "        self.available_copies=self.available_copies - copy_taken\n",
    "        print(f\"Available copies of {self.title} by {self.author}, ISBN number: {self.isbn} published in {self.publication_year} is {self.available_copies}\")\n",
    "        \n",
    "    def return_book(self,returned_copy):       #method to display the returned books\n",
    "        self.available_copies=self.available_copies + returned_copy\n",
    "        print(f\"Available copies of {self.title} by {self.author}, ISBN number: {self.isbn} published in {self.publication_year} is {self.available_copies}\")\n",
    "        \n",
    "    def display_book_info(self):         #method to display the info of books\n",
    "        print(f\"Information about the book:\\n Title: {self.title}\\n Author: {self.author}\\n ISBN Number: {self.isbn}\\n Publication year: {self.publication_year}\\n Available copies: {self.available_copies}\")        "
   ]
  },
  {
   "cell_type": "code",
   "execution_count": 15,
   "id": "81007031",
   "metadata": {},
   "outputs": [
    {
     "name": "stdout",
     "output_type": "stream",
     "text": [
      "Information about the book:\n",
      " Title: Two states\n",
      " Author: Chetan Bhagat\n",
      " ISBN Number: 16493625519\n",
      " Publication year: 2012\n",
      " Available copies: 5\n"
     ]
    }
   ],
   "source": [
    "book1=Book(\"Two states\", \"Chetan Bhagat\", 16493625519, 2012, 5)\n",
    "book1.display_book_info()"
   ]
  },
  {
   "cell_type": "code",
   "execution_count": 16,
   "id": "6688d191",
   "metadata": {},
   "outputs": [
    {
     "name": "stdout",
     "output_type": "stream",
     "text": [
      "Available copies of Two states by Chetan Bhagat, ISBN number: 16493625519 published in 2012 is 3\n"
     ]
    }
   ],
   "source": [
    "book1.check_out(2)"
   ]
  },
  {
   "cell_type": "code",
   "execution_count": 17,
   "id": "909384b5",
   "metadata": {},
   "outputs": [
    {
     "name": "stdout",
     "output_type": "stream",
     "text": [
      "Available copies of Two states by Chetan Bhagat, ISBN number: 16493625519 published in 2012 is 4\n"
     ]
    }
   ],
   "source": [
    "book1.return_book(1)"
   ]
  },
  {
   "cell_type": "code",
   "execution_count": 18,
   "id": "6babebc8",
   "metadata": {},
   "outputs": [
    {
     "name": "stdout",
     "output_type": "stream",
     "text": [
      "Information about the book:\n",
      " Title: Two states\n",
      " Author: Chetan Bhagat\n",
      " ISBN Number: 16493625519\n",
      " Publication year: 2012\n",
      " Available copies: 4\n"
     ]
    }
   ],
   "source": [
    "book1.display_book_info()"
   ]
  },
  {
   "cell_type": "markdown",
   "id": "4f0c46ef",
   "metadata": {},
   "source": [
    "8. For a ticket booking system, you have to design the \"Ticket\" class with OOP principles in mind. The “Ticket” class should have the following attributes:\n",
    "\n",
    "a. ticket_id: Represents the unique identifier for the ticket.\n",
    "\n",
    "b. event_name: Represents the name of the event.\n",
    "\n",
    "c. event_date: Represents the date of the event.\n",
    "\n",
    "d. venue: Represents the venue of the event.\n",
    "\n",
    "e. seat_number: Represents the seat number associated with the ticket.\n",
    "\n",
    "f. price: Represents the price of the ticket.\n",
    "\n",
    "g. is_reserved: Represents the reservation status of the ticket.\n",
    "\n",
    "The class also includes the following methods:\n",
    "\n",
    "a. reserve_ticket(self): Marks the ticket as reserved if it is not already reserved.\n",
    "\n",
    "b. cancel_reservation(self): Cancels the reservation of the ticket if it is already reserved.\n",
    "\n",
    "c. display_ticket_info(self): Displays the information about the ticket, including its attributes and reservation status."
   ]
  },
  {
   "cell_type": "code",
   "execution_count": 29,
   "id": "9dad8a53",
   "metadata": {},
   "outputs": [],
   "source": [
    "#Ticket booking system\n",
    "class Ticket:\n",
    "    def __init__(self, ticket_id, event_name, event_date, venue, seat_number, price, is_reserved):\n",
    "        self.ticket_id=ticket_id\n",
    "        self.event_name=event_name\n",
    "        self.event_date=event_date\n",
    "        self.venue=venue\n",
    "        self.seat_number=seat_number\n",
    "        self.price=price\n",
    "        self.is_reserved=is_reserved\n",
    "        \n",
    "    def reserve_ticket(self):\n",
    "        if self.is_reserved==\"Not reserved\":\n",
    "            self.is_reserved=\"Reserved\"\n",
    "            \n",
    "        print(\"Ticket is reserved!\")\n",
    "        \n",
    "    def cancel_reservation(self):\n",
    "        if self.is_reserved==\"Reserved\":\n",
    "            self.is_reserved=\"Reservation Cancelled\"\n",
    "            \n",
    "        print(\"Reservation is cancelled!\")\n",
    "            \n",
    "    def display_ticket_info(self):\n",
    "        print(f\"Information about the ticket:\\n Ticket ID: {self.ticket_id}\\n Event name: {self.event_name}\\n Event date: {self.event_date}\\n Venue: {self.venue}\\n Seat number: {self.seat_number}\\n Price: {self.price}\\n Reservation status: {self.is_reserved}\")"
   ]
  },
  {
   "cell_type": "code",
   "execution_count": 30,
   "id": "9c1a0334",
   "metadata": {},
   "outputs": [
    {
     "name": "stdout",
     "output_type": "stream",
     "text": [
      "Information about the ticket:\n",
      " Ticket ID: 123\n",
      " Event name: Bas kar Bassi\n",
      " Event date: 2 September 2023\n",
      " Venue: Saket, Delhi\n",
      " Seat number: A1\n",
      " Price: 2000\n",
      " Reservation status: Reserved\n"
     ]
    }
   ],
   "source": [
    "ticket1=Ticket(123, \"Bas kar Bassi\", \"2 September 2023\", \"Saket, Delhi\", \"A1\", 2000, \"Reserved\")\n",
    "ticket1.display_ticket_info()"
   ]
  },
  {
   "cell_type": "code",
   "execution_count": 31,
   "id": "1e88e0a3",
   "metadata": {},
   "outputs": [
    {
     "name": "stdout",
     "output_type": "stream",
     "text": [
      "Ticket is reserved!\n"
     ]
    }
   ],
   "source": [
    "ticket1.reserve_ticket()"
   ]
  },
  {
   "cell_type": "code",
   "execution_count": 32,
   "id": "d69c3786",
   "metadata": {},
   "outputs": [
    {
     "name": "stdout",
     "output_type": "stream",
     "text": [
      "Reservation is cancelled!\n"
     ]
    }
   ],
   "source": [
    "ticket1.cancel_reservation()"
   ]
  },
  {
   "cell_type": "code",
   "execution_count": 33,
   "id": "b2bf23a3",
   "metadata": {},
   "outputs": [
    {
     "name": "stdout",
     "output_type": "stream",
     "text": [
      "Information about the ticket:\n",
      " Ticket ID: 123\n",
      " Event name: Bas kar Bassi\n",
      " Event date: 2 September 2023\n",
      " Venue: Saket, Delhi\n",
      " Seat number: A1\n",
      " Price: 2000\n",
      " Reservation status: Reservation Cancelled\n"
     ]
    }
   ],
   "source": [
    "ticket1.display_ticket_info()"
   ]
  },
  {
   "cell_type": "code",
   "execution_count": 34,
   "id": "c426f487",
   "metadata": {},
   "outputs": [
    {
     "name": "stdout",
     "output_type": "stream",
     "text": [
      "Ticket is reserved!\n"
     ]
    }
   ],
   "source": [
    "ticket2=Ticket(456, \"Bas kar Bassi\", \"2 September 2023\", \"Saket, Delhi\", \"A2\", 2000, \"Not reserved\")\n",
    "ticket2.reserve_ticket()"
   ]
  },
  {
   "cell_type": "code",
   "execution_count": 37,
   "id": "6821f18e",
   "metadata": {},
   "outputs": [
    {
     "name": "stdout",
     "output_type": "stream",
     "text": [
      "Reservation is cancelled!\n",
      "Ticket is reserved!\n"
     ]
    }
   ],
   "source": [
    "ticket2.cancel_reservation()\n",
    "ticket2.reserve_ticket()"
   ]
  },
  {
   "cell_type": "code",
   "execution_count": 40,
   "id": "85da17da",
   "metadata": {},
   "outputs": [
    {
     "name": "stdout",
     "output_type": "stream",
     "text": [
      "Information about the ticket:\n",
      " Ticket ID: 456\n",
      " Event name: Bas kar Bassi\n",
      " Event date: 2 September 2023\n",
      " Venue: Saket, Delhi\n",
      " Seat number: A2\n",
      " Price: 2000\n",
      " Reservation status: Reservation Cancelled\n"
     ]
    }
   ],
   "source": [
    "ticket2.display_ticket_info()"
   ]
  },
  {
   "cell_type": "markdown",
   "id": "1c84de3d",
   "metadata": {},
   "source": [
    "9. You are creating a shopping cart for an e-commerce website. Using OOP to model the \"ShoppingCart\" functionality the class should contain following attributes and methods:\n",
    "\n",
    "a. items: Represents the list of items in the shopping cart.\n",
    "\n",
    "The class also includes the following methods:\n",
    "\n",
    "a. add_item(self, item): Adds an item to the shopping cart by appending it to the list of items.\n",
    "\n",
    "b. remove_item(self, item): Removes an item from the shopping cart if it exists in the list.\n",
    "\n",
    "c. view_cart(self): Displays the items currently present in the shopping cart.\n",
    "\n",
    "d. clear_cart(self): Clears all items from the shopping cart by reassigning an empty list to the items attribute."
   ]
  },
  {
   "cell_type": "code",
   "execution_count": 79,
   "id": "6b83009f",
   "metadata": {},
   "outputs": [],
   "source": [
    "#Shopping cart for e-commerce website\n",
    "class ShoppingCart:\n",
    "    def __init__(self):\n",
    "        self.items=[]\n",
    "        \n",
    "    def add_item(self,item):\n",
    "        self.items.append(item)\n",
    "        print(f\"{item} has been added to the cart.\")\n",
    "        \n",
    "    def remove_item(self,item):\n",
    "        if item in self.items:\n",
    "            self.items.remove(item)\n",
    "            print(f\"{item} has been removed from the cart.\")\n",
    "        else:\n",
    "            print(f\"{item} is not in the cart.\")\n",
    "            \n",
    "    def view_cart(self):\n",
    "        if self.items:\n",
    "            print(f\"Items present in your cart are {self.items}\")\n",
    "        else:\n",
    "            print(\"The cart is empty.\")\n",
    "        \n",
    "    def clear_cart(self):\n",
    "        self.items=[]\n",
    "        print(\"You have cleared your cart!\")"
   ]
  },
  {
   "cell_type": "code",
   "execution_count": 80,
   "id": "3e889cb3",
   "metadata": {},
   "outputs": [],
   "source": [
    "cart1=ShoppingCart()"
   ]
  },
  {
   "cell_type": "code",
   "execution_count": 81,
   "id": "08396e5e",
   "metadata": {},
   "outputs": [
    {
     "name": "stdout",
     "output_type": "stream",
     "text": [
      "Toys has been added to the cart.\n"
     ]
    }
   ],
   "source": [
    "cart1.add_item(\"Toys\")"
   ]
  },
  {
   "cell_type": "code",
   "execution_count": 82,
   "id": "8cf0feac",
   "metadata": {},
   "outputs": [
    {
     "name": "stdout",
     "output_type": "stream",
     "text": [
      "Maggie has been added to the cart.\n"
     ]
    }
   ],
   "source": [
    "cart1.add_item(\"Maggie\")"
   ]
  },
  {
   "cell_type": "code",
   "execution_count": 83,
   "id": "47ed214c",
   "metadata": {},
   "outputs": [
    {
     "name": "stdout",
     "output_type": "stream",
     "text": [
      "Items present in your cart are ['Toys', 'Maggie']\n"
     ]
    }
   ],
   "source": [
    "cart1.view_cart()"
   ]
  },
  {
   "cell_type": "code",
   "execution_count": 84,
   "id": "3e34c421",
   "metadata": {},
   "outputs": [
    {
     "name": "stdout",
     "output_type": "stream",
     "text": [
      "Toys has been removed from the cart.\n"
     ]
    }
   ],
   "source": [
    "cart1.remove_item(\"Toys\")"
   ]
  },
  {
   "cell_type": "code",
   "execution_count": 85,
   "id": "65d5fe15",
   "metadata": {},
   "outputs": [
    {
     "name": "stdout",
     "output_type": "stream",
     "text": [
      "Items present in your cart are ['Maggie']\n"
     ]
    }
   ],
   "source": [
    "cart1.view_cart()"
   ]
  },
  {
   "cell_type": "code",
   "execution_count": 86,
   "id": "4dcd02b4",
   "metadata": {},
   "outputs": [
    {
     "name": "stdout",
     "output_type": "stream",
     "text": [
      "Toys is not in the cart.\n"
     ]
    }
   ],
   "source": [
    "cart1.remove_item(\"Toys\")"
   ]
  },
  {
   "cell_type": "code",
   "execution_count": 87,
   "id": "56ff18fc",
   "metadata": {},
   "outputs": [
    {
     "name": "stdout",
     "output_type": "stream",
     "text": [
      "Games has been added to the cart.\n",
      "Flour has been added to the cart.\n",
      "Colgate has been added to the cart.\n"
     ]
    }
   ],
   "source": [
    "cart1.add_item(\"Games\")\n",
    "cart1.add_item(\"Flour\")\n",
    "cart1.add_item(\"Colgate\")"
   ]
  },
  {
   "cell_type": "code",
   "execution_count": 88,
   "id": "a262626b",
   "metadata": {},
   "outputs": [
    {
     "name": "stdout",
     "output_type": "stream",
     "text": [
      "Items present in your cart are ['Maggie', 'Games', 'Flour', 'Colgate']\n"
     ]
    }
   ],
   "source": [
    "cart1.view_cart()"
   ]
  },
  {
   "cell_type": "code",
   "execution_count": 89,
   "id": "44338d04",
   "metadata": {},
   "outputs": [
    {
     "name": "stdout",
     "output_type": "stream",
     "text": [
      "You have cleared your cart!\n"
     ]
    }
   ],
   "source": [
    "cart1.clear_cart()"
   ]
  },
  {
   "cell_type": "code",
   "execution_count": 90,
   "id": "2d4292b8",
   "metadata": {},
   "outputs": [
    {
     "name": "stdout",
     "output_type": "stream",
     "text": [
      "The cart is empty.\n"
     ]
    }
   ],
   "source": [
    "cart1.view_cart()"
   ]
  },
  {
   "cell_type": "markdown",
   "id": "dc77a5a2",
   "metadata": {},
   "source": [
    "10. Imagine a school management system. You have to design the \"Student\" class using OOP concepts.The “Student” class has the following attributes:\n",
    "\n",
    "a. name: Represents the name of the student.\n",
    "\n",
    "b. age: Represents the age of the student.\n",
    "\n",
    "c. grade: Represents the grade or class of the student.\n",
    "\n",
    "d. student_id: Represents the unique identifier for the student.\n",
    "\n",
    "e. attendance: Represents the attendance record of the student.\n",
    "\n",
    "The class should also include the following methods:\n",
    "\n",
    "a. update_attendance(self, date, status): Updates the attendance record of the student for a given date with the provided status (e.g., present or absent).\n",
    "\n",
    "b. get_attendance(self): Returns the attendance record of the student.\n",
    "\n",
    "c. get_average_attendance(self): Calculates and returns the average attendance percentage of the student based on their attendance record."
   ]
  },
  {
   "cell_type": "code",
   "execution_count": 96,
   "id": "753b35bd",
   "metadata": {},
   "outputs": [],
   "source": [
    "#School management system\n",
    "class Student:\n",
    "    def __init__(self, name, age, grade, student_id):\n",
    "        self.name = name\n",
    "        self.age = age\n",
    "        self.grade = grade\n",
    "        self.student_id = student_id\n",
    "        self.attendance = {}  # Initialize attendance as an empty dictionary\n",
    "\n",
    "    def update_attendance(self, date, status):\n",
    "        if date in self.attendance:\n",
    "            # If the date already exists, update the status\n",
    "            self.attendance[date] = status\n",
    "        else:\n",
    "            # If the date doesn't exist, add a new entry\n",
    "            self.attendance[date] = status\n",
    "\n",
    "    def get_attendance(self):\n",
    "        return self.attendance\n",
    "\n",
    "    def get_average_attendance(self):\n",
    "        if not self.attendance:\n",
    "            return 0.0  # Avoid division by zero if there is no attendance record\n",
    "\n",
    "        total_days = len(self.attendance)\n",
    "        present_days = sum(1 for status in self.attendance.values() if status == 'present')\n",
    "        average_percentage = (present_days / total_days) * 100\n",
    "        return average_percentage"
   ]
  },
  {
   "cell_type": "code",
   "execution_count": 97,
   "id": "67492729",
   "metadata": {},
   "outputs": [],
   "source": [
    "student1=Student(\"Nancy Jain\",22,\"A+\",123)"
   ]
  },
  {
   "cell_type": "code",
   "execution_count": 98,
   "id": "417d185f",
   "metadata": {},
   "outputs": [],
   "source": [
    "student1.update_attendance(\"29-08-2023\",\"present\")\n",
    "student1.update_attendance(\"30-08-2023\",\"absent\")\n",
    "student1.update_attendance(\"31-08-2023\",\"present\")\n",
    "student1.update_attendance(\"01-09-2023\",\"absent\")"
   ]
  },
  {
   "cell_type": "code",
   "execution_count": 99,
   "id": "6527df85",
   "metadata": {},
   "outputs": [
    {
     "data": {
      "text/plain": [
       "{'29-08-2023': 'present',\n",
       " '30-08-2023': 'absent',\n",
       " '31-08-2023': 'present',\n",
       " '01-09-2023': 'absent'}"
      ]
     },
     "execution_count": 99,
     "metadata": {},
     "output_type": "execute_result"
    }
   ],
   "source": [
    "student1.get_attendance()"
   ]
  },
  {
   "cell_type": "code",
   "execution_count": 100,
   "id": "7978888f",
   "metadata": {},
   "outputs": [
    {
     "data": {
      "text/plain": [
       "50.0"
      ]
     },
     "execution_count": 100,
     "metadata": {},
     "output_type": "execute_result"
    }
   ],
   "source": [
    "student1.get_average_attendance()"
   ]
  }
 ],
 "metadata": {
  "kernelspec": {
   "display_name": "Python 3 (ipykernel)",
   "language": "python",
   "name": "python3"
  },
  "language_info": {
   "codemirror_mode": {
    "name": "ipython",
    "version": 3
   },
   "file_extension": ".py",
   "mimetype": "text/x-python",
   "name": "python",
   "nbconvert_exporter": "python",
   "pygments_lexer": "ipython3",
   "version": "3.11.3"
  }
 },
 "nbformat": 4,
 "nbformat_minor": 5
}
