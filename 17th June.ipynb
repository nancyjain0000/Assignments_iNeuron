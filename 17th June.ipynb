{
 "cells": [
  {
   "cell_type": "markdown",
   "id": "842ca355",
   "metadata": {},
   "source": [
    "1. What is the role of try and exception block?\n",
    "\n",
    "Answer: Try and Except clauses are used in python program to handle the errors. If a program has an error and everytime you run it, it shows error. This will create a bad impression about the program. Instead, we can use try and except block wherever we think error might occur.\n",
    "\n",
    "Try block is used to write the piece of code where an error can occur and except block is used to mention the reason of error.\n",
    "Beside try and except block, we have 'else' and 'finally' blocks also. \n",
    "Example:"
   ]
  },
  {
   "cell_type": "code",
   "execution_count": 1,
   "id": "a831fd46",
   "metadata": {},
   "outputs": [
    {
     "name": "stdout",
     "output_type": "stream",
     "text": [
      "You have divided the number by zero!\n"
     ]
    }
   ],
   "source": [
    "try:\n",
    "    n=3\n",
    "    d=0\n",
    "    result=n/d\n",
    "except ZeroDivisionError:\n",
    "    print(\"You have divided the number by zero!\")\n",
    "else:\n",
    "    print(result)"
   ]
  },
  {
   "cell_type": "markdown",
   "id": "2301cb3d",
   "metadata": {},
   "source": [
    "2. What is the syntax for a basic try-except block?\n",
    "\n",
    "Answer: The syntax for a basic try-except block is \n",
    "\n",
    "try:\n",
    "\n",
    "    condition\n",
    "    \n",
    "except:\n",
    "\n",
    "    statement\n",
    "    \n",
    "Try and Except clauses are used in python program to handle the errors. If a program has an error and everytime you run it, it shows error. This will create a bad impression about the program. Instead, we can use try and except block wherever we think error might occur.\n",
    "\n",
    "Try block is used to write the piece of code where an error can occur and except block is used to mention the reason of error. "
   ]
  },
  {
   "cell_type": "code",
   "execution_count": 2,
   "id": "36ca5b9e",
   "metadata": {},
   "outputs": [
    {
     "name": "stdout",
     "output_type": "stream",
     "text": [
      "You have divided the number by zero!\n"
     ]
    }
   ],
   "source": [
    "try:\n",
    "    n=3\n",
    "    d=0\n",
    "    result=n/d\n",
    "except ZeroDivisionError:\n",
    "    print(\"You have divided the number by zero!\")\n",
    "else:\n",
    "    print(result)"
   ]
  },
  {
   "cell_type": "markdown",
   "id": "65cd7ea7",
   "metadata": {},
   "source": [
    "3. What happens if an exception occurs inside a try block and there is no matching except block?\n",
    "\n",
    "Answer: If an exception occurs inside a try block and there is no matching except block, the exception will propagate up the call stack until it finds a suitable exception handler. \n",
    "\n",
    "If no such handler is found in the current function or any calling functions, the program will terminate, and an unhandled exception error will be raised."
   ]
  },
  {
   "cell_type": "markdown",
   "id": "253d0715",
   "metadata": {},
   "source": [
    "4. What is the difference between using a bare except block and specifying a specific exception type?\n",
    "\n",
    "Answer: Using a bare `except` block and specifying a specific exception type are two different approaches to handling exceptions in programming. The key difference between them lies in their level of specificity and the control they provide over which exceptions are caught and how they are handled.\n",
    "\n",
    "A bare `except` block is used to catch and handle any exception that occurs within the associated try block. It doesn't specify a particular exception type, so it will catch all exceptions, including built-in exceptions and user-defined exceptions.\n",
    "\n",
    "Example of a bare `except` block in Python:"
   ]
  },
  {
   "cell_type": "code",
   "execution_count": 3,
   "id": "03db32d1",
   "metadata": {},
   "outputs": [
    {
     "name": "stdout",
     "output_type": "stream",
     "text": [
      "An error occurred.\n"
     ]
    }
   ],
   "source": [
    "try:\n",
    "    result = 10 / 0   #code that might cause error\n",
    "except:\n",
    "    # This bare except block catches all exceptions\n",
    "    print(\"An error occurred.\")"
   ]
  },
  {
   "cell_type": "markdown",
   "id": "2318d76c",
   "metadata": {},
   "source": [
    "When you specify a specific exception type in an `except` block, you are telling the program to catch only exceptions of that type. This allows you to handle different exceptions in different ways and provides more precise control over error handling.\n",
    "  \n",
    "Example of specifying a specific exception type in Python:"
   ]
  },
  {
   "cell_type": "code",
   "execution_count": 5,
   "id": "469c35fa",
   "metadata": {},
   "outputs": [
    {
     "name": "stdout",
     "output_type": "stream",
     "text": [
      "Division by zero error occurred.\n"
     ]
    }
   ],
   "source": [
    "try:\n",
    "    result = 10 / 0\n",
    "except ZeroDivisionError:\n",
    "    # This except block catches only ZeroDivisionError\n",
    "    print(\"Division by zero error occurred.\")"
   ]
  },
  {
   "cell_type": "markdown",
   "id": "b922bca4",
   "metadata": {},
   "source": [
    "5. Can you have nested try-except blocks in Python? If yes, then give an example.\n",
    "\n",
    "Answer: Yes, we can have nested try-except blocks in Python. This means that we can place one try-except block inside another. This allows us to handle exceptions at different levels of our code, providing more granular error handling.\n",
    "\n",
    "Example:"
   ]
  },
  {
   "cell_type": "code",
   "execution_count": 8,
   "id": "bf0dd99a",
   "metadata": {},
   "outputs": [
    {
     "name": "stdout",
     "output_type": "stream",
     "text": [
      "Enter a dividend: 4\n",
      "Enter a divisor: 0\n",
      "Division by zero error (inner try-except block).\n"
     ]
    }
   ],
   "source": [
    "try:\n",
    "    # Outer try block\n",
    "    num1 = int(input(\"Enter a dividend: \"))\n",
    "    num2 = int(input(\"Enter a divisor: \"))\n",
    "    \n",
    "    # Inner try block\n",
    "    try:\n",
    "        result = num1 / num2\n",
    "    except ZeroDivisionError:\n",
    "        print(\"Division by zero error (inner try-except block).\")\n",
    "    except ValueError:\n",
    "        print(\"Value error (inner try-except block).\")\n",
    "    else:\n",
    "        print(\"Result of division:\", result)\n",
    "\n",
    "except ZeroDivisionError:\n",
    "    print(\"Division by zero error (outer try-except block).\")\n",
    "except ValueError:\n",
    "    print(\"Value error (outer try-except block).\")"
   ]
  },
  {
   "cell_type": "markdown",
   "id": "0d70ee40",
   "metadata": {},
   "source": [
    "6. Can we use multiple exception blocks, if yes then give an example.\n",
    "\n",
    "Answer: Yes, we can use multiple exception blocks. Multiple exceptions allows us to handle multiple errors at the same time by preventing the code from crashing.\n",
    "\n",
    "Example:"
   ]
  },
  {
   "cell_type": "code",
   "execution_count": 11,
   "id": "6b0e8f11",
   "metadata": {},
   "outputs": [
    {
     "name": "stdout",
     "output_type": "stream",
     "text": [
      "Enter the numerator: 3\n",
      "Enter the denominator: 0\n",
      "You have divided the number by zero!\n"
     ]
    }
   ],
   "source": [
    "try:\n",
    "    n=int(input(\"Enter the numerator: \"))\n",
    "    d=int(input(\"Enter the denominator: \"))\n",
    "    result=n/d\n",
    "except ZeroDivisionError:\n",
    "    print(\"You have divided the number by zero!\")\n",
    "except ValueError:\n",
    "    print(\"Value error!\")\n",
    "else: \n",
    "    print(result)"
   ]
  },
  {
   "cell_type": "markdown",
   "id": "7e66c06d",
   "metadata": {},
   "source": [
    "7. Write the reason due to which following errors are raised:\n",
    "\n",
    "a. EOFError\n",
    "\n",
    "b. FloatingPointError\n",
    "\n",
    "c. IndexError\n",
    "\n",
    "d. MemoryError\n",
    "\n",
    "e. OverflowError\n",
    "\n",
    "f. TabError\n",
    "\n",
    "g. ValueError\n",
    "\n",
    "Answer: \n",
    "\n",
    "a. `EOFError` (End of File Error): An `EOFError` is raised when an input operation reaches the end of a file (or input stream) unexpectedly. This typically happens when you are reading data from a file or standard input and you try to read more data than is available, or you reach the end of the file unexpectedly.\n",
    "\n",
    "b. `FloatingPointError`: A `FloatingPointError` is raised when an error occurs during a floating-point operation. This can happen when you perform invalid floating-point operations, such as dividing by zero or encountering an undefined result in a mathematical operation.\n",
    "\n",
    "c. `IndexError`: An `IndexError` is raised when you try to access an index of a sequence (e.g., a list, tuple, or string) that is out of range. This typically occurs when you attempt to access an element using an index that is greater than or less than the valid index range of the sequence.\n",
    "\n",
    "d. `MemoryError`: A `MemoryError` is raised when the Python interpreter runs out of memory while trying to allocate an object or perform some memory-intensive operation. This error can occur when your program consumes too much memory, and the system cannot allocate more memory for your application.\n",
    "\n",
    "e. `OverflowError`: An `OverflowError` is raised when a numeric operation exceeds the limits of the data type. This occurs when you try to store a value that is too large for the data type you are using, such as trying to represent a number beyond the maximum value that can be stored.\n",
    "\n",
    "f. `TabError`: A `TabError` is raised when there is an issue with the indentation in your Python code. This typically happens when you mix tabs and spaces for indentation, and Python cannot determine the correct indentation level.\n",
    "\n",
    "g. `ValueError`: A `ValueError` is raised when you try to perform an operation on a value of the correct data type, but the value itself is not appropriate for that operation. For example, trying to convert a non-numeric string to an integer using `int()` would raise a `ValueError`."
   ]
  },
  {
   "cell_type": "markdown",
   "id": "bc769f4f",
   "metadata": {},
   "source": [
    "8. Write code for the following given scenario and add try-exception block to it.\n",
    "\n",
    "a. Program to divide two numbers"
   ]
  },
  {
   "cell_type": "code",
   "execution_count": 12,
   "id": "42a8e156",
   "metadata": {},
   "outputs": [
    {
     "name": "stdout",
     "output_type": "stream",
     "text": [
      "Enter the numerator:5\n",
      "Enter the denominator:0\n",
      "You have divided the number by zero.\n"
     ]
    }
   ],
   "source": [
    "num1=int(input(\"Enter the numerator:\"))\n",
    "num2=int(input(\"Enter the denominator:\"))\n",
    "try:\n",
    "    result=num1/num2\n",
    "except ZeroDivisionError:\n",
    "    print(\"You have divided the number by zero.\")"
   ]
  },
  {
   "cell_type": "markdown",
   "id": "4181fb7d",
   "metadata": {},
   "source": [
    "b. Program to convert a string to an integer"
   ]
  },
  {
   "cell_type": "code",
   "execution_count": 13,
   "id": "c9f26c6c",
   "metadata": {},
   "outputs": [
    {
     "name": "stdout",
     "output_type": "stream",
     "text": [
      "Value Error occured!\n"
     ]
    }
   ],
   "source": [
    "name=\"Nancy Jain\"\n",
    "try:\n",
    "    int(name)\n",
    "except ValueError:\n",
    "    print(\"Value Error occured!\")"
   ]
  },
  {
   "cell_type": "markdown",
   "id": "2dd14ad9",
   "metadata": {},
   "source": [
    "c. Program to access an element in a list"
   ]
  },
  {
   "cell_type": "code",
   "execution_count": 14,
   "id": "f1f0d132",
   "metadata": {},
   "outputs": [
    {
     "name": "stdout",
     "output_type": "stream",
     "text": [
      "You have entered the wrong index!\n",
      "Please enter the index in the range only.\n"
     ]
    }
   ],
   "source": [
    "list=[1,2,3,4,5,6,7,8]\n",
    "try:\n",
    "    list[9]\n",
    "except IndexError:\n",
    "    print(\"You have entered the wrong index!\")\n",
    "    print(\"Please enter the index in the range only.\")"
   ]
  },
  {
   "cell_type": "markdown",
   "id": "3a135d5f",
   "metadata": {},
   "source": [
    "d. Program to handle a specific exception"
   ]
  },
  {
   "cell_type": "code",
   "execution_count": 17,
   "id": "4c1a9239",
   "metadata": {},
   "outputs": [
    {
     "name": "stdout",
     "output_type": "stream",
     "text": [
      "Key is missing. Enter a valid key.\n"
     ]
    }
   ],
   "source": [
    "dict={\"name\":\"nancy\",\"age\":22,\"grade\":\"A++\"}\n",
    "try:\n",
    "    dict[\"city\"]\n",
    "except KeyError:\n",
    "    print(\"Key is missing. Enter a valid key.\")"
   ]
  },
  {
   "cell_type": "markdown",
   "id": "0746aa0c",
   "metadata": {},
   "source": [
    "e. Program to handle any exception"
   ]
  },
  {
   "cell_type": "code",
   "execution_count": 18,
   "id": "9bdb2e87",
   "metadata": {},
   "outputs": [
    {
     "name": "stdout",
     "output_type": "stream",
     "text": [
      "NameError is there.\n"
     ]
    }
   ],
   "source": [
    "try:\n",
    "    side=6\n",
    "    print(area)\n",
    "except:\n",
    "    print(\"NameError is there.\")"
   ]
  }
 ],
 "metadata": {
  "kernelspec": {
   "display_name": "Python 3 (ipykernel)",
   "language": "python",
   "name": "python3"
  },
  "language_info": {
   "codemirror_mode": {
    "name": "ipython",
    "version": 3
   },
   "file_extension": ".py",
   "mimetype": "text/x-python",
   "name": "python",
   "nbconvert_exporter": "python",
   "pygments_lexer": "ipython3",
   "version": "3.11.3"
  }
 },
 "nbformat": 4,
 "nbformat_minor": 5
}
