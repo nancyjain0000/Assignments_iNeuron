{
 "cells": [
  {
   "cell_type": "markdown",
   "id": "05e2bdea",
   "metadata": {},
   "source": [
    "1. In Python, what is the difference between a built-in function and a user-defined function? Provide an example of each.\n",
    "\n",
    "Answer: Every programming language has two types of functions. \n",
    "\n",
    "1. Built-in functions\n",
    "2. User-defined functions\n",
    "\n",
    "Built-in functions: Built-in functions are those functions which are already built inside the python interpreter and we don't need to code for such functions to perform the specific task. Example: sqrt(), print(), list(), mean(), describe() etc.\n",
    "\n",
    "User-defined functions: User-defined functions are those additional functions that are defined by users and performs the specific tasks for which that function is created. Example: calculator(), fibonacci_sequence(), student_data() etc."
   ]
  },
  {
   "cell_type": "code",
   "execution_count": 5,
   "id": "e6775cdb",
   "metadata": {},
   "outputs": [
    {
     "data": {
      "text/plain": [
       "2.0"
      ]
     },
     "execution_count": 5,
     "metadata": {},
     "output_type": "execute_result"
    }
   ],
   "source": [
    "#Example of built-in function\n",
    "from math import sqrt\n",
    "num1=4\n",
    "sqrt(num1)   #calculating the square root"
   ]
  },
  {
   "cell_type": "code",
   "execution_count": 7,
   "id": "9bde1590",
   "metadata": {},
   "outputs": [
    {
     "name": "stdout",
     "output_type": "stream",
     "text": [
      "Sum of 8 and 6 is 14\n",
      "Difference of 8 and 6 is 2\n",
      "Multiplication of 8 and 6 is 48\n",
      "Division of 8 and 6 is 1.3333333333333333\n"
     ]
    }
   ],
   "source": [
    "#Example of user-defined function\n",
    "def calculator(num1,num2):\n",
    "    add=num1+num2\n",
    "    subtract=num1-num2\n",
    "    multiply=num1*num2\n",
    "    division=num1/num2\n",
    "    print(\"Sum of\",num1,\"and\",num2,\"is\",add)\n",
    "    print(\"Difference of\",num1,\"and\",num2,\"is\",subtract)\n",
    "    print(\"Multiplication of\",num1,\"and\",num2,\"is\",multiply)\n",
    "    print(\"Division of\",num1,\"and\",num2,\"is\",division)\n",
    "    \n",
    "    \n",
    "calculator(8,6)"
   ]
  },
  {
   "cell_type": "markdown",
   "id": "99ba2dc1",
   "metadata": {},
   "source": [
    "2. How can you pass arguments to a function in Python? Explain the difference between positional arguments and keyword arguments.\n",
    "\n",
    "Answer: In Python, you can pass arguments to a function in two primary ways: positional arguments and keyword arguments. \n",
    "\n",
    "1. Positional Arguments: When you pass arguments as positional, their order matters, and they are matched to the function's parameters in the order they are defined. The number of positional arguments you pass must match the number of parameters in the function's definition.\n",
    "\n",
    "2. Keyword Arguments: With keyword arguments, you specify the parameter name along with the argument's value when calling the function. This allows you to pass arguments out of order, and it's especially useful when you have functions with many parameters, and you want to make the code more readable.\n",
    "\n",
    "3. Default Arguments: In Python, you can also define default values for function parameters. These are used when an argument is not provided during the function call. Default arguments allow you to make some function parameters optional."
   ]
  },
  {
   "cell_type": "code",
   "execution_count": 13,
   "id": "ecf7a088",
   "metadata": {},
   "outputs": [
    {
     "name": "stdout",
     "output_type": "stream",
     "text": [
      "Hello, Nancy! You are 22 years old.\n"
     ]
    }
   ],
   "source": [
    "#Example of positional argument\n",
    "def greet(name, age):\n",
    "    print(f\"Hello, {name}! You are {age} years old.\")\n",
    "\n",
    "greet(\"Nancy\", 22)  # \"Alice\" is matched with the first parameter 'name', and 30 is matched with the second parameter 'age'."
   ]
  },
  {
   "cell_type": "code",
   "execution_count": 12,
   "id": "fffb70bd",
   "metadata": {},
   "outputs": [
    {
     "name": "stdout",
     "output_type": "stream",
     "text": [
      "Hello, Nancy! You are 22 years old.\n"
     ]
    }
   ],
   "source": [
    "#Example of keyword arguement\n",
    "def greet(name, age):\n",
    "    print(f\"Hello, {name}! You are {age} years old.\")\n",
    "\n",
    "greet(age=22, name=\"Nancy\")  # The order is not important when using keyword arguments."
   ]
  },
  {
   "cell_type": "code",
   "execution_count": 11,
   "id": "afa60eb4",
   "metadata": {},
   "outputs": [
    {
     "name": "stdout",
     "output_type": "stream",
     "text": [
      "Hello, Nancy! You are 22 years old.\n"
     ]
    }
   ],
   "source": [
    "#Example of default arguement\n",
    "def greet(name, age=22):\n",
    "    print(f\"Hello, {name}! You are {age} years old.\")\n",
    "\n",
    "greet(\"Nancy\")  # Since 'age' has a default value of 25, you can omit it when calling the function."
   ]
  },
  {
   "cell_type": "markdown",
   "id": "fede9444",
   "metadata": {},
   "source": [
    "3. What is the purpose of the return statement in a function? Can a function have multiple return statements? Explain with an example.\n",
    "\n",
    "Answer: The `return` statement in a function serves the purpose of returning a value or a result from the function to the caller. When a function encounters a `return` statement, it immediately exits the function, and the value specified after `return` is passed back to the caller. The `return` statement is essential for allowing functions to produce results that can be used in other parts of your program.\n",
    "\n",
    "A function can have multiple `return` statements, and the one executed depends on the condition or path of execution within the function. Once a `return` statement is executed, the function's execution terminates, and no further code in the function is executed. This means that only one `return` statement will be executed during a single function call."
   ]
  },
  {
   "cell_type": "code",
   "execution_count": 14,
   "id": "ba6eb04c",
   "metadata": {},
   "outputs": [
    {
     "name": "stdout",
     "output_type": "stream",
     "text": [
      "Grade: B\n"
     ]
    }
   ],
   "source": [
    "#Example of multiple return statements\n",
    "def get_grade(score):\n",
    "    if score >= 90:\n",
    "        return \"A\"\n",
    "    elif score >= 80:\n",
    "        return \"B\"\n",
    "    elif score >= 70:\n",
    "        return \"C\"\n",
    "    elif score >= 60:\n",
    "        return \"D\"\n",
    "    else:\n",
    "        return \"F\"\n",
    "\n",
    "# Function call\n",
    "result = get_grade(85)\n",
    "print(f\"Grade: {result}\")"
   ]
  },
  {
   "cell_type": "markdown",
   "id": "03bfaa56",
   "metadata": {},
   "source": [
    "4. What are lambda functions in Python? How are they different from regular functions? Provide an example where a lambda function can be useful.\n",
    "\n",
    "Answer: Lambda functions are anonymous functions that can have any number of parameters but can only have one expression. They are often used for short, simple operations where defining a full function using the `def` keyword would be overkill. Lambda functions are created using the `lambda` keyword, followed by the arguments and the expression to be evaluated.\n",
    "\n",
    "The general syntax of a lambda function:\n",
    "\n",
    "lambda arguments: expression\n",
    "\n",
    "Key differences between lambda functions and regular (named) functions:\n",
    "\n",
    "1. Anonymous: Lambda functions are anonymous, meaning they don't have a name like regular functions defined with `def`. They are typically used for small, one-time operations.\n",
    "\n",
    "2. Single Expression: Lambda functions can only contain a single expression, while regular functions can have multiple statements and complex logic.\n",
    "\n",
    "3. No Statements: You cannot use statements (like assignments or loops) in a lambda function, only expressions.\n",
    "\n",
    "4. Concise: Lambda functions are concise and often used for simple, quick tasks."
   ]
  },
  {
   "cell_type": "code",
   "execution_count": 18,
   "id": "09a18008",
   "metadata": {},
   "outputs": [
    {
     "name": "stdout",
     "output_type": "stream",
     "text": [
      "12\n"
     ]
    },
    {
     "data": {
      "text/plain": [
       "12"
      ]
     },
     "execution_count": 18,
     "metadata": {},
     "output_type": "execute_result"
    }
   ],
   "source": [
    "#Using regular function\n",
    "def add_num(num1,num2):\n",
    "    add=num1+num2\n",
    "    return add\n",
    "\n",
    "print(add_num(5,7))\n",
    "\n",
    "#Using lambda function\n",
    "add=lambda x,y:x+y\n",
    "add(5,7)"
   ]
  },
  {
   "cell_type": "markdown",
   "id": "bbf271e3",
   "metadata": {},
   "source": [
    "5. How does the concept of \"scope\" apply to functions in Python? Explain the difference between local scope and global scope.\n",
    "\n",
    "Answer: In Python, the concept of \"scope\" refers to the region or context in which a variable or name can be accessed or referenced. Python has two main types of scope: local scope and global scope. The scope of a variable determines where in your code that variable can be used or modified.\n",
    "\n",
    "1. Local Scope: Local scope, also known as function scope, exists within a specific function. Variables defined within a function are considered to have local scope and are only accessible within that function. They are not visible or accessible outside of the function.\n",
    "\n",
    "2. Global Scope: Variables defined outside of any function or block have global scope and can be accessed throughout the entire script. Global variables are typically defined at the module level and are accessible from any function within the module."
   ]
  },
  {
   "cell_type": "code",
   "execution_count": 22,
   "id": "b43e7cf1",
   "metadata": {},
   "outputs": [
    {
     "name": "stdout",
     "output_type": "stream",
     "text": [
      "16\n"
     ]
    },
    {
     "ename": "NameError",
     "evalue": "name 'num3' is not defined",
     "output_type": "error",
     "traceback": [
      "\u001b[1;31m---------------------------------------------------------------------------\u001b[0m",
      "\u001b[1;31mNameError\u001b[0m                                 Traceback (most recent call last)",
      "Cell \u001b[1;32mIn[22], line 9\u001b[0m\n\u001b[0;32m      6\u001b[0m     \u001b[38;5;28;01mreturn\u001b[39;00m add\n\u001b[0;32m      8\u001b[0m \u001b[38;5;28mprint\u001b[39m(add_num(\u001b[38;5;241m5\u001b[39m,\u001b[38;5;241m4\u001b[39m,\u001b[38;5;241m7\u001b[39m))\n\u001b[1;32m----> 9\u001b[0m \u001b[38;5;28mprint\u001b[39m(num3)\n",
      "\u001b[1;31mNameError\u001b[0m: name 'num3' is not defined"
     ]
    }
   ],
   "source": [
    "num1=5     #defined globally\n",
    "num2=4     #defined globally\n",
    "def add_num(num1,num2,num3):\n",
    "    num3=7       #defined locally\n",
    "    add=num1+num2+num3\n",
    "    return add\n",
    "\n",
    "print(add_num(5,4,7))\n",
    "print(num3)     #will through an error because num3 is defined locally within the function only"
   ]
  },
  {
   "cell_type": "markdown",
   "id": "c3c0985c",
   "metadata": {},
   "source": [
    "6. How can you use the \"return\" statement in a Python function to return multiple values?\n",
    "\n",
    "Answer: In Python, you can use the `return` statement in a function to return multiple values by returning them as a tuple, a list, or another data structure that can hold multiple items. Here's how you can do it:\n",
    "\n",
    "1. Using a Tuple: You can pack multiple values into a tuple and return that tuple from the function. To create a tuple, you can use parentheses or simply separate the values with commas. Example:"
   ]
  },
  {
   "cell_type": "code",
   "execution_count": 23,
   "id": "a85506e6",
   "metadata": {},
   "outputs": [
    {
     "name": "stdout",
     "output_type": "stream",
     "text": [
      "(1, 2, 3)\n"
     ]
    }
   ],
   "source": [
    "def return_multiple_values():\n",
    "    a = 1\n",
    "    b = 2\n",
    "    c = 3\n",
    "    return a, b, c  # The values are packed into a tuple\n",
    "\n",
    "result = return_multiple_values()\n",
    "print(result)  # Prints: (1, 2, 3)"
   ]
  },
  {
   "cell_type": "markdown",
   "id": "a9f4765b",
   "metadata": {},
   "source": [
    "2. Using a List: In the same way, you can pack multiple values into a list and return that list from the function. Example:"
   ]
  },
  {
   "cell_type": "code",
   "execution_count": 24,
   "id": "30337f6c",
   "metadata": {},
   "outputs": [
    {
     "name": "stdout",
     "output_type": "stream",
     "text": [
      "[1, 2, 3]\n"
     ]
    }
   ],
   "source": [
    " def return_multiple_values():\n",
    "    a = 1\n",
    "    b = 2\n",
    "    c = 3\n",
    "    return [a, b, c]  # The values are packed into a list\n",
    "\n",
    "result = return_multiple_values()\n",
    "print(result)  # Prints: [1, 2, 3]"
   ]
  },
  {
   "cell_type": "markdown",
   "id": "0b7526a9",
   "metadata": {},
   "source": [
    "3. Using a Dictionary: If you want to return multiple values with associated keys or labels, you can use a dictionary. Example:"
   ]
  },
  {
   "cell_type": "code",
   "execution_count": 25,
   "id": "d11d5602",
   "metadata": {},
   "outputs": [
    {
     "name": "stdout",
     "output_type": "stream",
     "text": [
      "{'value_a': 1, 'value_b': 2, 'value_c': 3}\n"
     ]
    }
   ],
   "source": [
    " def return_multiple_values():\n",
    "    a = 1\n",
    "    b = 2\n",
    "    c = 3\n",
    "    return {\"value_a\": a, \"value_b\": b, \"value_c\": c}  # The values are packed into a dictionary\n",
    "\n",
    "result = return_multiple_values()\n",
    "print(result)  # Prints: {'value_a': 1, 'value_b': 2, 'value_c': 3}"
   ]
  },
  {
   "cell_type": "markdown",
   "id": "cca3fc1a",
   "metadata": {},
   "source": [
    "7. What is the difference between the \"pass by value\" and \"pass by reference\" concepts when it comes to function arguments in Python?\n",
    "\n",
    "Answer: In Python, the concepts of \"pass by value\" and \"pass by reference\" is discussed in the context of function arguments.\n",
    "\n",
    "1. Pass by Value: In a \"pass by value\" system, when you pass an argument to a function, a copy of the value of the argument is made, and this copy is what the function works with. Any changes made to the argument within the function do not affect the original value outside of the function.\n",
    "\n",
    "\n",
    "2. Pass by Reference: In a \"pass by reference\" system, when you pass an argument to a function, you are actually passing a reference or a pointer to the original value. Any changes made to the argument within the function directly affect the original value outside of the function.\n",
    "  \n",
    "\n",
    "In Python, arguments are passed by object reference. When you pass an argument to a function, you are passing a reference to the object, not a copy of the object itself. Any changes made to the object inside the function can affect the original object outside of the function.\n",
    "\n",
    "However, if you reassign the reference to a new object within the function, it will not affect the original reference outside of the function.\n",
    "Example:"
   ]
  },
  {
   "cell_type": "code",
   "execution_count": 26,
   "id": "c65df09e",
   "metadata": {},
   "outputs": [
    {
     "name": "stdout",
     "output_type": "stream",
     "text": [
      "[0, 4]\n"
     ]
    }
   ],
   "source": [
    "def modify_list(my_list):\n",
    "    my_list.append(4)  # This modification affects the original list.\n",
    "    my_list = [1, 2, 3]  # This reassignment doesn't affect the original list.\n",
    "    \n",
    "original_list=[0]\n",
    "modify_list(original_list)\n",
    "print(original_list)  # Prints: [0, 4]"
   ]
  },
  {
   "cell_type": "markdown",
   "id": "2a146825",
   "metadata": {},
   "source": [
    "8. Create a function that can intake integer or decimal value and do following operations:\n",
    "\n",
    "a. Logarithmic function (log x)\n",
    "\n",
    "b. Exponential function (exp(x))\n",
    "\n",
    "c. Power function with base 2 (2x)\n",
    "\n",
    "d. Square root"
   ]
  },
  {
   "cell_type": "code",
   "execution_count": 35,
   "id": "5f07a522",
   "metadata": {},
   "outputs": [
    {
     "name": "stdout",
     "output_type": "stream",
     "text": [
      "log value: 1.791759469228055\n",
      "exponential value: 403.4287934927351\n",
      "power value with base 2: 64\n",
      "square root value: 2.449489742783178\n"
     ]
    }
   ],
   "source": [
    "# a. Logarithmic function\n",
    "import math\n",
    "def logarithmic_function(x):\n",
    "    value=math.log(x)\n",
    "    return value\n",
    "\n",
    "print(\"log value:\",logarithmic_function(6))\n",
    "\n",
    "# b. Exponential function\n",
    "def exponent(x):\n",
    "    value=math.exp(x)\n",
    "    return value\n",
    "\n",
    "print(\"exponential value:\",exponent(6))\n",
    "\n",
    "# c. Power function with base 2 (2^x)\n",
    "def power_function(x):\n",
    "    value=2**x\n",
    "    return value\n",
    "\n",
    "print(\"power value with base 2:\",power_function(6))\n",
    "\n",
    "# d. Square root\n",
    "def square_root_function(x):\n",
    "    value=sqrt(x)\n",
    "    return value\n",
    "\n",
    "print(\"square root value:\",square_root_function(6))"
   ]
  },
  {
   "cell_type": "markdown",
   "id": "a7140746",
   "metadata": {},
   "source": [
    "9. Create a function that takes a full name as an argument and returns first name and last name."
   ]
  },
  {
   "cell_type": "code",
   "execution_count": 38,
   "id": "004c291b",
   "metadata": {},
   "outputs": [
    {
     "name": "stdout",
     "output_type": "stream",
     "text": [
      "First name is Nancy and last name is Jain\n"
     ]
    }
   ],
   "source": [
    "def candidate_name(full_name):\n",
    "    name=full_name.split(\" \")    #spliting by spaces \n",
    "    print(\"First name is\",name[0],\"and last name is\",name[1])    #retrieving the values from the list by selecting the index\n",
    "    \n",
    "candidate_name(\"Nancy Jain\")   #function call"
   ]
  }
 ],
 "metadata": {
  "kernelspec": {
   "display_name": "Python 3 (ipykernel)",
   "language": "python",
   "name": "python3"
  },
  "language_info": {
   "codemirror_mode": {
    "name": "ipython",
    "version": 3
   },
   "file_extension": ".py",
   "mimetype": "text/x-python",
   "name": "python",
   "nbconvert_exporter": "python",
   "pygments_lexer": "ipython3",
   "version": "3.11.3"
  }
 },
 "nbformat": 4,
 "nbformat_minor": 5
}
