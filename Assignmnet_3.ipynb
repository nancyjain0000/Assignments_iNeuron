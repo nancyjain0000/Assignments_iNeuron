{
 "cells": [
  {
   "cell_type": "markdown",
   "id": "8e55ed00",
   "metadata": {},
   "source": [
    "1. Why are functions advantageous to have in your programs?\n",
    "\n",
    "Answer: Functions make our code simple and reduces the lines of code. In case, we want to use some particular function 50 times in a code, we don't need to write all those lines of code 50 times in the program, instead we can create the function once and can call it several times according to the need. This way the lines of code will reduce and the program readability will be maintained as well. Example:"
   ]
  },
  {
   "cell_type": "code",
   "execution_count": 3,
   "id": "d911c525",
   "metadata": {},
   "outputs": [
    {
     "name": "stdout",
     "output_type": "stream",
     "text": [
      "Sum of 1 and 2 is: 3\n",
      "Sum of 2 and 3 is: 5\n",
      "Sum of 3 and 4 is: 7\n",
      "Sum of 4 and 5 is: 9\n",
      "Sum of 5 and 6 is: 11\n",
      "Sum of 6 and 7 is: 13\n",
      "Sum of 7 and 8 is: 15\n",
      "Sum of 8 and 9 is: 17\n",
      "Sum of 9 and 10 is: 19\n"
     ]
    }
   ],
   "source": [
    "def add_num(num1,num2):\n",
    "    add=num1+num2\n",
    "    return add\n",
    "\n",
    "print(\"Sum of 1 and 2 is:\",add_num(1,2))\n",
    "print(\"Sum of 2 and 3 is:\",add_num(2,3))\n",
    "print(\"Sum of 3 and 4 is:\",add_num(3,4))\n",
    "print(\"Sum of 4 and 5 is:\",add_num(4,5))\n",
    "print(\"Sum of 5 and 6 is:\",add_num(5,6))\n",
    "print(\"Sum of 6 and 7 is:\",add_num(6,7))\n",
    "print(\"Sum of 7 and 8 is:\",add_num(7,8))\n",
    "print(\"Sum of 8 and 9 is:\",add_num(8,9))\n",
    "print(\"Sum of 9 and 10 is:\",add_num(9,10))"
   ]
  },
  {
   "cell_type": "markdown",
   "id": "aeb67ab0",
   "metadata": {},
   "source": [
    "2. When does the code in a function run: when it's specified or when it's called?\n",
    "\n",
    "Answer: Code in a function runs when the function is called. Example:"
   ]
  },
  {
   "cell_type": "code",
   "execution_count": 4,
   "id": "00b58629",
   "metadata": {},
   "outputs": [
    {
     "name": "stdout",
     "output_type": "stream",
     "text": [
      "Sum of 1 and 2 is: 3\n"
     ]
    }
   ],
   "source": [
    "def add_num(num1,num2):  #function definition\n",
    "    add=num1+num2\n",
    "    return add\n",
    "\n",
    "print(\"Sum of 1 and 2 is:\",add_num(1,2))       #function calling"
   ]
  },
  {
   "cell_type": "markdown",
   "id": "c60642b0",
   "metadata": {},
   "source": [
    "3. What statement creates a function?\n",
    "\n",
    "Answer: To create a function, we use def keyword. It is used to define the function. General syntax of defining a function is:\n",
    "\n",
    "def function_name(parameters):\n",
    "    \n",
    "    function_body"
   ]
  },
  {
   "cell_type": "code",
   "execution_count": 19,
   "id": "5a85eb40",
   "metadata": {},
   "outputs": [
    {
     "name": "stdout",
     "output_type": "stream",
     "text": [
      "Sum of 1 and 2 is: 3\n"
     ]
    }
   ],
   "source": [
    "def add_num(num1,num2):  #function creation\n",
    "    add=num1+num2\n",
    "    return add\n",
    "\n",
    "print(\"Sum of 1 and 2 is:\",add_num(1,2))       #function calling"
   ]
  },
  {
   "cell_type": "markdown",
   "id": "d300c5b7",
   "metadata": {},
   "source": [
    "4. What is the difference between a function and a function call?\n",
    "\n",
    "Answer: Function is a block of code that performs the specific operation depending on the purpose of the function. Creation of function is done by using the def keyword. Once a function is created, it can only be executed if it is called.\n",
    "\n",
    "function call is the command given to call the function to performance the operation.\n",
    "Example:"
   ]
  },
  {
   "cell_type": "code",
   "execution_count": 1,
   "id": "2445bd19",
   "metadata": {},
   "outputs": [
    {
     "name": "stdout",
     "output_type": "stream",
     "text": [
      "Sum of 1 and 2 is: 3\n"
     ]
    }
   ],
   "source": [
    "def add_num(num1,num2):  #function creation\n",
    "    add=num1+num2     #purpose of this function is to add two numbers\n",
    "    return add      #this statements returns the value of variable add after calculation\n",
    " \n",
    "print(\"Sum of 1 and 2 is:\",add_num(1,2))       #function calling"
   ]
  },
  {
   "cell_type": "markdown",
   "id": "f8d14168",
   "metadata": {},
   "source": [
    "5. How many global scopes are there in a Python program? How many local scopes?\n",
    "\n",
    "Answer: There is only one global scope in python program. Variables defined in global scope can be used anywhere in the program whereas there are multiple local scopes. Each function, method can define its own local variable. Variables defined in local scope are local to that function or method only."
   ]
  },
  {
   "cell_type": "markdown",
   "id": "c0db7573",
   "metadata": {},
   "source": [
    "6. What happens to variables in a local scope when the function call returns?\n",
    "\n",
    "Answer: If a variable is defined in a local scope of the function, then at the time of function calling, that variable will be used for that particular function only. When a function call returns in Python, the local variables in the function's scope are destroyed. This means that they are no longer accessible and their memory is reclaimed by the Python interpreter.\n",
    "\n",
    "In other words, when a function call returns, the local variables are no longer valid. If you try to access a local variable after the function call returns, you will get an error.\n",
    "\n",
    "Example:"
   ]
  },
  {
   "cell_type": "code",
   "execution_count": 2,
   "id": "bd7e6593",
   "metadata": {},
   "outputs": [
    {
     "ename": "NameError",
     "evalue": "name 'num1' is not defined",
     "output_type": "error",
     "traceback": [
      "\u001b[1;31m---------------------------------------------------------------------------\u001b[0m",
      "\u001b[1;31mNameError\u001b[0m                                 Traceback (most recent call last)",
      "Cell \u001b[1;32mIn[2], line 7\u001b[0m\n\u001b[0;32m      4\u001b[0m     \u001b[38;5;28;01mreturn\u001b[39;00m num1\u001b[38;5;241m+\u001b[39mnum2\n\u001b[0;32m      6\u001b[0m add_num()   \u001b[38;5;66;03m#will call the function\u001b[39;00m\n\u001b[1;32m----> 7\u001b[0m \u001b[38;5;28mprint\u001b[39m(\u001b[38;5;124m\"\u001b[39m\u001b[38;5;124mNumbers are:\u001b[39m\u001b[38;5;124m\"\u001b[39m,num1,\u001b[38;5;124m\"\u001b[39m\u001b[38;5;124mand\u001b[39m\u001b[38;5;124m\"\u001b[39m,num2)\n",
      "\u001b[1;31mNameError\u001b[0m: name 'num1' is not defined"
     ]
    }
   ],
   "source": [
    "def add_num():\n",
    "    num1=4\n",
    "    num2=7\n",
    "    return num1+num2\n",
    "\n",
    "add_num()   #will call the function\n",
    "print(\"Numbers are:\",num1,\"and\",num2)    #throws error because variable num1 and num2 are defined in local scope"
   ]
  },
  {
   "cell_type": "markdown",
   "id": "02f1a122",
   "metadata": {},
   "source": [
    "7. What is the concept of a return value? Is it possible to have a return value in an expression?\n",
    "\n",
    "Answer: return is used in a function to tell the function to return the value that is specified by it. Yes, it is possible to have a return value in an expression. return statement can return an expression or variable after performing the task.\n",
    "Example:"
   ]
  },
  {
   "cell_type": "code",
   "execution_count": 8,
   "id": "a98a331c",
   "metadata": {},
   "outputs": [
    {
     "data": {
      "text/plain": [
       "11"
      ]
     },
     "execution_count": 8,
     "metadata": {},
     "output_type": "execute_result"
    }
   ],
   "source": [
    "def add_num(num1,num2):\n",
    "    return num1+num2\n",
    "\n",
    "add_num(5,6)"
   ]
  },
  {
   "cell_type": "markdown",
   "id": "4d7d1ef0",
   "metadata": {},
   "source": [
    "8. If a function does not have a return statement, what is the return value of a call to that function?\n",
    "\n",
    "Answer: If a function does not have a return statement or print statement, the return value of a call to that function will be empty, which maeans that the function will not return anything. Example:"
   ]
  },
  {
   "cell_type": "code",
   "execution_count": 22,
   "id": "3375397c",
   "metadata": {},
   "outputs": [],
   "source": [
    "def add_num(num1,num2):\n",
    "    add= num1+num2\n",
    "\n",
    "add_num(5,6)"
   ]
  },
  {
   "cell_type": "markdown",
   "id": "48156f98",
   "metadata": {},
   "source": [
    "9. How do you make a function variable refer to the global variable?\n",
    "\n",
    "Answer: global variables are defined globally and can be used in any part of the program, whether any function or method. Example:"
   ]
  },
  {
   "cell_type": "code",
   "execution_count": 24,
   "id": "9d9f39d4",
   "metadata": {},
   "outputs": [
    {
     "data": {
      "text/plain": [
       "6"
      ]
     },
     "execution_count": 24,
     "metadata": {},
     "output_type": "execute_result"
    }
   ],
   "source": [
    "a=10\n",
    "b=4\n",
    "def subtract():    #function definition\n",
    "    sub=a-b    #a and b are global variable that are used in function\n",
    "    return sub\n",
    "\n",
    "subtract()   #function calling"
   ]
  },
  {
   "cell_type": "markdown",
   "id": "e55bfd18",
   "metadata": {},
   "source": [
    "10. What is the data type of None?\n",
    "\n",
    "Answer: Datatype of None is NoneType. NoneType is a special data type in Python that represents nothingness. It is not the same as 0, False, or an empty string."
   ]
  },
  {
   "cell_type": "markdown",
   "id": "a21d52b6",
   "metadata": {},
   "source": [
    "11. What does the sentence import areallyourpetsnamederic do?\n",
    "\n",
    "Answer: The sentence import areallyourpetsnamederic does not do anything in Python.The import statement is used to import modules into the current namespace. A module is a file that contains Python code.\n",
    "\n",
    "The areallyourpetsnamederic module does not exist, so the import statement will fail. The interpreter will raise an error message that says \"Module 'areallyourpetsnamederic' not found.\"\n",
    "\n",
    "And If by any chance there is a module named areallyourpetsnamederic, the import areallyourpetsnamederic statement will import the module into the current namespace."
   ]
  },
  {
   "cell_type": "markdown",
   "id": "766b7837",
   "metadata": {},
   "source": [
    "12. If you had a bacon() feature in a spam module, what would you call it after importing spam?\n",
    "\n",
    "Answer: To call the function bacon() inside the module spam after importing spam, we would use the following syntax:\n",
    "spam.bacon()\n",
    "\n",
    "This would call the bacon() function in the spam module and execute its code.\n",
    "For example, suppose we have the following code in a file named spam.py:\n",
    "\n",
    "def bacon(): \n",
    "    print(\"Bacon is delicious!\")\n",
    "\n",
    "Then, we could import the spam module and call the bacon() function as follows:\n",
    "\n",
    "import spam\n",
    "spam.bacon()"
   ]
  },
  {
   "cell_type": "markdown",
   "id": "f87a1888",
   "metadata": {},
   "source": [
    "13. What can you do to save a programme from crashing if it encounters an error?\n",
    "\n",
    "Answer: To save the program from crashing if it encounters an error, we can use error handling techniques to handle exceptions that might occur during the execution of the code. Python provides a way to catch and manage exceptions using try and except blocks."
   ]
  },
  {
   "cell_type": "code",
   "execution_count": 17,
   "id": "1783c48c",
   "metadata": {},
   "outputs": [
    {
     "name": "stdout",
     "output_type": "stream",
     "text": [
      "You have divided the number by zero!\n"
     ]
    }
   ],
   "source": [
    "try:         #operations that can cause error is written in try clause\n",
    "    n=5\n",
    "    d=0\n",
    "    result=n/d\n",
    "except ZeroDivisionError:        #this is the exception that will be raised if error occurs\n",
    "    print(\"You have divided the number by zero!\")\n",
    "else:          #prints the result if there is no error\n",
    "    print(result)"
   ]
  },
  {
   "cell_type": "markdown",
   "id": "d1b63ed4",
   "metadata": {},
   "source": [
    "14. What is the purpose of the try clause? What is the purpose of the except clause?\n",
    "\n",
    "Answer: try clause is used when we think the program might cause error. We write that code in try clause which we want to test and can cause error. Purpose of except clause is to write the exception and print the message that causes the exception. try-except clause are used in python language or any other programming language to avoid program from crashing. There are 40 exceptions in python program."
   ]
  },
  {
   "cell_type": "code",
   "execution_count": 18,
   "id": "71583819",
   "metadata": {},
   "outputs": [
    {
     "name": "stdout",
     "output_type": "stream",
     "text": [
      "You have divided the number by zero!\n"
     ]
    }
   ],
   "source": [
    "try:         #operations that can cause error is written in try clause\n",
    "    n=5\n",
    "    d=0\n",
    "    result=n/d\n",
    "except ZeroDivisionError:        #this is the exception that will be raised if error occurs\n",
    "    print(\"You have divided the number by zero!\")\n",
    "else:          #prints the result if there is no error\n",
    "    print(result)"
   ]
  }
 ],
 "metadata": {
  "kernelspec": {
   "display_name": "Python 3 (ipykernel)",
   "language": "python",
   "name": "python3"
  },
  "language_info": {
   "codemirror_mode": {
    "name": "ipython",
    "version": 3
   },
   "file_extension": ".py",
   "mimetype": "text/x-python",
   "name": "python",
   "nbconvert_exporter": "python",
   "pygments_lexer": "ipython3",
   "version": "3.11.3"
  }
 },
 "nbformat": 4,
 "nbformat_minor": 5
}
