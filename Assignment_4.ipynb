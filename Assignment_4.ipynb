{
 "cells": [
  {
   "cell_type": "markdown",
   "id": "49c83238",
   "metadata": {},
   "source": [
    "1. What exactly is [  ]?\n",
    "\n",
    "Answer: [ ] is an empty list which has no elements in it. A list is a collection of items that can be of any data type. A list is mutable in nature, which means that they can be alterned or chnaged after creation. List can be heterogeneous.\n",
    "Example:"
   ]
  },
  {
   "cell_type": "code",
   "execution_count": 1,
   "id": "d13c16ad",
   "metadata": {},
   "outputs": [
    {
     "name": "stdout",
     "output_type": "stream",
     "text": [
      "[]\n",
      "[1, 3.2, True, 'Apple phone']\n",
      "[1, 2, 10, 3, 4, 5, 6, 7, 8, 9]\n"
     ]
    }
   ],
   "source": [
    "#Enpty list\n",
    "list1=[]\n",
    "print(list1)\n",
    "\n",
    "#Heterogeneous list\n",
    "list2=[1,3.2,True,\"Apple phone\"]\n",
    "print(list2)\n",
    "\n",
    "#Changing items from list\n",
    "list3=[1,2,3,4,5,6,7,8,9]\n",
    "list3.insert(2,10)\n",
    "print(list3)"
   ]
  },
  {
   "cell_type": "markdown",
   "id": "5ec3edf6",
   "metadata": {},
   "source": [
    "2. In a list of values stored in a variable called spam, how would you assign the value 'hello' as the third value? (Assume [2, 4, 6, 8, 10] are in spam.)\n",
    "\n",
    "Answer: To assign 'hello' as a third value to the list of values stored in the variable \"spam\", we will assign the index at which we want to replace the value. Example:"
   ]
  },
  {
   "cell_type": "code",
   "execution_count": 2,
   "id": "47fb3696",
   "metadata": {},
   "outputs": [
    {
     "name": "stdout",
     "output_type": "stream",
     "text": [
      "[2, 4, 'hello', 8, 10]\n"
     ]
    }
   ],
   "source": [
    "spam=[2,4,6,8,10]\n",
    "spam[2]=\"hello\"\n",
    "print(spam)"
   ]
  },
  {
   "cell_type": "markdown",
   "id": "76e3d3ba",
   "metadata": {},
   "source": [
    "Let's pretend the spam includes the list ['a', 'b', 'c', 'd'] for the next three queries.\n",
    "\n",
    "3. What is the value of spam[int(int('3' * 2) / 11)]?\n",
    "\n",
    "Answer: The value of spam[int(int('3' 2) / 11)] is d.\n",
    "\n",
    "'3'*2 evaluates to '33'.\n",
    "\n",
    "int('33') converts the string '33' to an integer, which is 33.\n",
    "\n",
    "33 / 11 performs integer division, resulting in 3.\n",
    "\n",
    "So, now we get spam[3] which means that the value at index 3 which is d."
   ]
  },
  {
   "cell_type": "code",
   "execution_count": 7,
   "id": "6bf1b9df",
   "metadata": {},
   "outputs": [
    {
     "name": "stdout",
     "output_type": "stream",
     "text": [
      "d\n"
     ]
    }
   ],
   "source": [
    "spam=['a','b','c','d']\n",
    "print(spam[int(int('3' * 2) / 11)])"
   ]
  },
  {
   "cell_type": "markdown",
   "id": "a92a09b8",
   "metadata": {},
   "source": [
    "4. What is the value of spam[-1]?\n",
    "\n",
    "Answer: Value of spam[-1] is 'd'.\n",
    "\n",
    "We are given the variable spam=['a','b','c','d'] and spam[-1] is equivalent to spam[len(spam)-1], which results to spam[4-1].\n",
    "\n",
    "spam[4-1] gives spam[3] which means that the third index in the list spam, which is 'd'\n",
    "\n",
    "\n",
    "5. What is the value of spam[:2]?\n",
    "\n",
    "Answer: Value of spam[:2] is ['a','b']\n",
    "\n",
    "We are given the variable spam=['a','b','c','d'] and spam[:2] is equivalent to spam[0:2] which means that it will print those items from the list which are starting from index 0 but end on index 1. Here, 0 is inclusive but 2 is exclusive.\n",
    "\n",
    "The slice notation in Python allows us to extract a portion of a list."
   ]
  },
  {
   "cell_type": "markdown",
   "id": "d43e702d",
   "metadata": {},
   "source": [
    "Let's pretend bacon has the list [3.14, 'cat,' 11, 'cat,' True] for the next three questions.\n",
    "\n",
    "6. What is the value of bacon.index('cat')?\n",
    "\n",
    "Answer: Value of bacon.index('cat') is 1. \n",
    "\n",
    "index() is used to know the index position of the specific item. Here, bacon.index('cat') is used to know the index value of item 'cat' which is 1.\n",
    "\n",
    "In lists, indexing starts from 0.\n",
    "\n",
    "7. How does bacon.append(99) change the look of the list value in bacon?\n",
    "\n",
    "Answer: bacon.append(99) will add the item 99 to the end of the list. Therefore, the appended list will be [3.14, 'cat', 11, 'cat', True, 99].\n",
    "\n",
    "append() in lists is used to add items to the list without removing any already existed item.\n",
    "\n",
    "8. How does bacon.remove('cat') change the look of the list in bacon?\n",
    "\n",
    "Answer: bacon.remove('cat') will remove the item 'cat' from the list in bacon. Therefore, the list after removal of the item 'cat' will be [3.14, 11, True].\n",
    "\n",
    "remove() is used to remove the item from the list. remove() takes the item as the parameter and removes it from the list."
   ]
  },
  {
   "cell_type": "markdown",
   "id": "5838c2d0",
   "metadata": {},
   "source": [
    "9. What are the list concatenation and list replication operators?\n",
    "\n",
    "Answer: In Python, the list concatenation operator is +, and the list replication operator is * .\n",
    "\n",
    "The + operator concatenates two or more lists together in a single list. The new list will contain all of the elements from the first list, followed by all of the elements from the second list and continuing in the same way for the further lists.\n",
    "\n",
    "The * operator repeats a list a specified number of times. The new list will contain the original list repeated the specified number of times."
   ]
  },
  {
   "cell_type": "code",
   "execution_count": 3,
   "id": "80787dbf",
   "metadata": {},
   "outputs": [
    {
     "name": "stdout",
     "output_type": "stream",
     "text": [
      "[1, 2, 3, 4, 5, 'apple', 'mango', 'kiwi', 'banana']\n"
     ]
    }
   ],
   "source": [
    "#list concatenation operator \"+\"\n",
    "list1=[1,2,3,4,5]\n",
    "list2=['apple','mango','kiwi','banana']\n",
    "new_list=list1+list2\n",
    "print(new_list)"
   ]
  },
  {
   "cell_type": "markdown",
   "id": "6ce371bf",
   "metadata": {},
   "source": [
    "To repliacte the list, we have multipliaction operator (*)."
   ]
  },
  {
   "cell_type": "code",
   "execution_count": 13,
   "id": "2dee7e87",
   "metadata": {},
   "outputs": [
    {
     "name": "stdout",
     "output_type": "stream",
     "text": [
      "[1, 2, 3, 1, 2, 3, 1, 2, 3, 1, 2, 3]\n"
     ]
    }
   ],
   "source": [
    "list=[1,2,3]\n",
    "list1=list*4\n",
    "print(list1)"
   ]
  },
  {
   "cell_type": "markdown",
   "id": "47ee631e",
   "metadata": {},
   "source": [
    "10. What is difference between the list methods append() and insert()?\n",
    "\n",
    "Answer: The append() and insert() methods are both used to add elements to a list in Python. However, their approach is different.\n",
    "\n",
    "append() is used to add items to the list at the end of the continuing list. It takes single argument which is the element we want to add.\n",
    "\n",
    "insert() is used to insert the particular item to the specified index. insert() takes two parameters, first is the index at which you want to insert the item, and second is the item that needs to be inserted. "
   ]
  },
  {
   "cell_type": "code",
   "execution_count": 14,
   "id": "87e059af",
   "metadata": {},
   "outputs": [
    {
     "name": "stdout",
     "output_type": "stream",
     "text": [
      "[1, 2, 3, 4, 5, 'cat']\n",
      "[1, 2, 3, 'apple', 4, 5, 'cat']\n"
     ]
    }
   ],
   "source": [
    "#append()\n",
    "list1=[1,2,3,4,5]\n",
    "list1.append('cat')\n",
    "print(list1)\n",
    "\n",
    "#insert()\n",
    "list1.insert(3,'apple')\n",
    "print(list1)"
   ]
  },
  {
   "cell_type": "markdown",
   "id": "8ae35edd",
   "metadata": {},
   "source": [
    "11. What are the two methods for removing items from a list?\n",
    "\n",
    "Answer: Two methods for removing items from a list are remove() and pop().\n",
    "\n",
    "remove() is used to remove item from the list. In remove(), we specify the item that needs to be removed from the list.\n",
    "\n",
    "In pop(), we specify the index that needs to be removed from the list. "
   ]
  },
  {
   "cell_type": "code",
   "execution_count": 18,
   "id": "fcc1dbd5",
   "metadata": {},
   "outputs": [
    {
     "name": "stdout",
     "output_type": "stream",
     "text": [
      "['name', 'age', 'city']\n",
      "['name', 'age']\n"
     ]
    }
   ],
   "source": [
    "#removing items from list\n",
    "\n",
    "#remove()\n",
    "list1=['name','age','city','roll number']\n",
    "list1.remove('roll number')    #removing the item named 'roll number'\n",
    "print(list1)\n",
    "\n",
    "#pop()\n",
    "list1.pop(2)  #popping the item at index 2\n",
    "print(list1)"
   ]
  },
  {
   "cell_type": "markdown",
   "id": "0cd2d881",
   "metadata": {},
   "source": [
    "12. Describe how list values and string values are identical.\n",
    "\n",
    "Answer: List values and string values in Python have some similarities but they are different data types. Some similarities are:\n",
    "\n",
    "1. Ordered Sequences: Both lists and strings are ordered sequences of elements. In a list, these elements can be of any data type, while in a string, they are characters.\n",
    "2. Indexing: You can access individual elements of both lists and strings by using index notation. \n",
    "3. Slicing: You can extract a portion of both lists and strings using slicing. \n",
    "4. Iteration: You can iterate through the elements of a list or the characters of a string using loops or comprehensions."
   ]
  },
  {
   "cell_type": "markdown",
   "id": "a09e1a7c",
   "metadata": {},
   "source": [
    "13. What's the difference between tuples and lists?\n",
    "\n",
    "Answer: Tuples are enclosed in paranthesis ( ) whereas list is enclosed in square brackets [ ] where each items are separated by commas.\n",
    "Tuples are immutable in nature which means they cannot be altered or changed after creation whereas lists are mutable in nature.\n",
    "\n",
    "Tuples are generally faster than lists."
   ]
  },
  {
   "cell_type": "code",
   "execution_count": 20,
   "id": "97e28942",
   "metadata": {},
   "outputs": [
    {
     "name": "stdout",
     "output_type": "stream",
     "text": [
      "[1, 2, 100, 3, 4, 5]\n"
     ]
    }
   ],
   "source": [
    "#lists\n",
    "list1=[1,2,3,4,5]\n",
    "list1.insert(2,100)   #inserting item 100 at index 2\n",
    "print(list1)"
   ]
  },
  {
   "cell_type": "code",
   "execution_count": 22,
   "id": "c4986b23",
   "metadata": {},
   "outputs": [
    {
     "ename": "AttributeError",
     "evalue": "'tuple' object has no attribute 'insert'",
     "output_type": "error",
     "traceback": [
      "\u001b[1;31m---------------------------------------------------------------------------\u001b[0m",
      "\u001b[1;31mAttributeError\u001b[0m                            Traceback (most recent call last)",
      "Cell \u001b[1;32mIn[22], line 3\u001b[0m\n\u001b[0;32m      1\u001b[0m \u001b[38;5;66;03m#tuples\u001b[39;00m\n\u001b[0;32m      2\u001b[0m tuple1\u001b[38;5;241m=\u001b[39m(\u001b[38;5;241m1\u001b[39m,\u001b[38;5;241m2\u001b[39m,\u001b[38;5;241m3\u001b[39m,\u001b[38;5;241m4\u001b[39m,\u001b[38;5;241m5\u001b[39m)\n\u001b[1;32m----> 3\u001b[0m tuple1\u001b[38;5;241m.\u001b[39minsert(\u001b[38;5;241m2\u001b[39m,\u001b[38;5;241m100\u001b[39m)     \u001b[38;5;66;03m#inserting item 100 at index 2\u001b[39;00m\n\u001b[0;32m      4\u001b[0m \u001b[38;5;28mprint\u001b[39m(tuple1)\n",
      "\u001b[1;31mAttributeError\u001b[0m: 'tuple' object has no attribute 'insert'"
     ]
    }
   ],
   "source": [
    "#tuples\n",
    "tuple1=(1,2,3,4,5)\n",
    "tuple1.insert(2,100)     #inserting item 100 at index 2\n",
    "print(tuple1)"
   ]
  },
  {
   "cell_type": "markdown",
   "id": "ad000f04",
   "metadata": {},
   "source": [
    "14. How do you type a tuple value that only contains the integer 42?\n",
    "\n",
    "Answer: To type a tuple value that only contains the integer 42, we can simply assign the tuple with some variable like my_tuple=(42)\n",
    "\n",
    "\n",
    "15. How do you get a list value's tuple form? How do you get a tuple value's list form?\n",
    "\n",
    "Answer: You can convert a list to tuple or a tuple to a list by passing the list or tuple to the tuple() or list() constructors respectively. Example:"
   ]
  },
  {
   "cell_type": "code",
   "execution_count": 5,
   "id": "1a09e4b6",
   "metadata": {},
   "outputs": [
    {
     "name": "stdout",
     "output_type": "stream",
     "text": [
      "(1, 2, 3, 4, 5)\n"
     ]
    }
   ],
   "source": [
    "#converting list value to tuple form\n",
    "my_list=[1,2,3,4,5]\n",
    "my_tuple=tuple(my_list)\n",
    "print(my_tuple)"
   ]
  },
  {
   "cell_type": "code",
   "execution_count": 4,
   "id": "b654cc1c",
   "metadata": {},
   "outputs": [
    {
     "name": "stdout",
     "output_type": "stream",
     "text": [
      "[1, 2, 3, 4, 5]\n"
     ]
    }
   ],
   "source": [
    "#converting tuple value to list form\n",
    "my_tuple=(1,2,3,4,5)\n",
    "my_list= list(my_tuple)\n",
    "print(my_list)"
   ]
  },
  {
   "cell_type": "markdown",
   "id": "4fa5e467",
   "metadata": {},
   "source": [
    "16. Variables that \"contain\" list values are not necessarily lists themselves. Instead, what do they contain?\n",
    "\n",
    "Answer: In Python, variables that \"contain\" list values, or more accurately, reference list values, do not actually store the list data itself. Instead, they contain references or pointers to the memory location where the list data is stored. This concept applies not only to lists but also to most other mutable data types, including dictionaries and custom objects.\n",
    "\n",
    "For example, the code mentioned below creates a list and assigns it to the variable my_list:\n",
    "\n",
    "my_list = [1, 2, 3]\n",
    "\n",
    "The variable my_list does not contain the list data itself. Instead, it contains a reference to the location where the list data is stored in memory.\n",
    "\n",
    "When we access the value of my_list, Python follows the reference to the location where the list data is stored and returns the list data. It simply means that we can modify the list data without changing the variable that contains the reference to the list.\n",
    "\n",
    "Multiple variables can reference the same list in memory, making it possible to share and modify the same list across different parts of your code.\n",
    "\n",
    "17. How do you distinguish between copy.copy() and copy.deepcopy()?\n",
    "\n",
    "Answer: The copy.copy() and copy.deepcopy() functions are both used to create copies of objects in Python.However they work in different way\n",
    "\n",
    "We use copy.copy() (shallow copy) when we want a new object with a similar structure to the original but don't need to create copies of nested objects.\n",
    "\n",
    "\n",
    "Use copy.deepcopy() (deep copy) when you want a completely independent copy of the original object, including all nested objects, and changes should not affect the original."
   ]
  }
 ],
 "metadata": {
  "kernelspec": {
   "display_name": "Python 3 (ipykernel)",
   "language": "python",
   "name": "python3"
  },
  "language_info": {
   "codemirror_mode": {
    "name": "ipython",
    "version": 3
   },
   "file_extension": ".py",
   "mimetype": "text/x-python",
   "name": "python",
   "nbconvert_exporter": "python",
   "pygments_lexer": "ipython3",
   "version": "3.11.3"
  }
 },
 "nbformat": 4,
 "nbformat_minor": 5
}
